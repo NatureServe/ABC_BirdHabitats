{
 "cells": [
  {
   "cell_type": "markdown",
   "metadata": {},
   "source": [
    "This script is to calculate the proportion of each habitat that is protected using PAD-US and equivalent Canadian datasets, broken down by owner and management intent. "
   ]
  },
  {
   "cell_type": "code",
   "execution_count": 19,
   "metadata": {},
   "outputs": [
    {
     "name": "stdout",
     "output_type": "stream",
     "text": [
      "S:\\Projects\\ABC\\y2025\\Pro\\Draft\\ABC_RSR_Calculation_Pro\\ABC_RSR_Calculation\n"
     ]
    }
   ],
   "source": [
    "# Check Current Working Directory\n",
    "import os\n",
    "print(os.getcwd())"
   ]
  },
  {
   "cell_type": "code",
   "execution_count": 20,
   "metadata": {},
   "outputs": [],
   "source": [
    "# Change working directory to the notebook's directory if needed \n",
    "# This ensures the config.py file in the same directory as the notebook can be referenced\n",
    "os.chdir(r'S:\\Projects\\ABC\\y2025\\Pro\\Draft\\ABC_RSR_Calculation_Pro\\ABC_RSR_Calculation')"
   ]
  },
  {
   "cell_type": "code",
   "execution_count": 21,
   "metadata": {},
   "outputs": [],
   "source": [
    "# Module search path: Also ensures that the directory containing 'config.py' is in the Python search path ('sys.path').\n",
    "import sys\n",
    "sys.path.append(r'S:\\Projects\\ABC\\y2025\\Pro\\Draft\\ABC_RSR_Calculation_Pro\\ABC_RSR_Calculation')"
   ]
  },
  {
   "cell_type": "code",
   "execution_count": 22,
   "metadata": {},
   "outputs": [],
   "source": [
    "import arcpy\n",
    "import os\n",
    "import config"
   ]
  },
  {
   "cell_type": "code",
   "execution_count": 23,
   "metadata": {},
   "outputs": [],
   "source": [
    "workspace_final = os.path.join(config.project_folder_final, f\"{config.gdb_final}.gdb\")\n",
    "workspace_int = os.path.join(config.project_folder_int, f\"{config.gdb_int}.gdb\")"
   ]
  },
  {
   "cell_type": "code",
   "execution_count": 24,
   "metadata": {},
   "outputs": [],
   "source": [
    "arcpy.env.workspace = workspace_int"
   ]
  },
  {
   "cell_type": "code",
   "execution_count": 25,
   "metadata": {},
   "outputs": [
    {
     "name": "stdout",
     "output_type": "stream",
     "text": [
      "Table complete.\n"
     ]
    }
   ],
   "source": [
    "# Calculate area each habitat type intersects with the GAP 1 and 2\n",
    "# Protected Areas layer using tabulate area.\n",
    "\n",
    "in_zone_data = config.HabMap_tif\n",
    "zone_field = \"HabitatCod\"\n",
    "in_class_data = config.PA_1_2\n",
    "class_field = \"Loc_Ds\"\n",
    "out_table = os.path.join(config.project_folder_int, config.gdb_int + \".gdb\", config.output_int_PA)\n",
    "processing_cell_size = config.HabMap_tif\n",
    "classes_as_rows = \"CLASSES_AS_ROWS\"\n",
    "\n",
    "arcpy.sa.TabulateArea(\n",
    "    in_zone_data,\n",
    "    zone_field,\n",
    "    in_class_data,\n",
    "    class_field,\n",
    "    out_table,\n",
    "    processing_cell_size,\n",
    "    classes_as_rows\n",
    ")\n",
    "\n",
    "print(\"Table complete.\")"
   ]
  },
  {
   "cell_type": "code",
   "execution_count": 26,
   "metadata": {},
   "outputs": [
    {
     "name": "stdout",
     "output_type": "stream",
     "text": [
      "{10100: 1258962.0, 10200: 103416957.0, 10300: 7347043.0, 10302: 22378962.0, 10400: 23492058.0, 10404: 28499857.0, 10405: 15788020.0, 10500: 6790179.0, 10600: 30975.0, 10606: 1953995.0, 10607: 4035684.0, 10608: 766413.0, 10700: 899952.0, 10800: 842179.0, 10900: 2473711.0, 11000: 16842484.0, 11100: 35117377.0, 11200: 28432053.0, 11300: 1485641.0, 21400: 9454478.0, 21500: 24256013.0, 21600: 56495025.0, 21700: 10653573.0, 21800: 48600026.0, 21809: 42563748.0, 21900: 710553.0, 22100: 18275887.0, 22200: 258034.0, 32200: 6115302.0, 32300: 49404849.0, 32311: 2892313.0, 32312: 7040679.0, 32400: 9657584.0, 32413: 2658336.0, 32500: 6691529.0, 32515: 126306.0, 32516: 17223.0, 32600: 86759497.0, 32700: 20973435.0, 32800: 6339112.0, 32900: 4902208.0, 32916: 1647583.0, 33000: 1363058.0, 43610: 852868.0, 43620: 99094.0, 53810: 84053.0, 53820: 48380.0, 63917: 201064.0, 63918: 1151548.0, 64000: 7336556.0, 64100: 4669172.0, 64200: 198060.0, 64300: 4887011.0, 64400: 4039304.0, 64500: 51604854.0, 74600: 3750247.0, 74700: 2244938.0, 74719: 216148.0, 74720: 431873.0, 74721: 112759.0, 74722: 1520859.0, 74723: 1954836.0, 74800: 32188890.0, 74900: 6567302.0, 75000: 3755966.0, 75310: 300799.0, 75320: 359078.0, 85400: 11717980.0, 85424: 1244118.0, 95600: 421458.0, 95700: 2869810.0, 95800: 2132266.0, 95900: 103845285.0, 95925: 29560887.0, 96000: 36826236.0, 96100: 127087462.0, 96146: 1486629.0, 106200: 3532493.0, 106300: 22892685.0, 106326: 3284734.0, 106400: 53916348.0, 106500: 55031422.0, 106700: 111931.0, 117100: 2059557.0, 117200: 320868.0, 117328: 1937266.0, 117329: 1154810.0, 117330: 4208379.0, 117331: 390.0, 117431: 31.0, 117533: 394185.0, 117534: 464962.0, 117535: 47497.0, 117637: 943585.0, 117638: 4173305.0, 117639: 26381661.0, 117701: 442.0, 117702: 98277.0, 117900: 4544586.0, 118040: 3283.0, 118041: 174.0, 118042: 273688.0, 118100: 5318103.0, 128200: 1598004.0, 128300: 8592247.0, 128400: 30764946.0, 128445: 151203.0, 128500: 3538642.0, 128600: 10837163.0}\n"
     ]
    }
   ],
   "source": [
    "# Sum the total count for each habitat and store values in a dictionary.\n",
    "\n",
    "# Dictionary to store sum of count column\n",
    "\n",
    "sum_count_PA12 = {}\n",
    "\n",
    "# Define the category and value fields\n",
    "category_field = \"HabitatCod\"\n",
    "value_field = \"Count\"\n",
    "\n",
    "with arcpy.da.SearchCursor(config.output_int_PA, [category_field, value_field]) as cursor:\n",
    "    for row in cursor:\n",
    "        category = row[0]\n",
    "        value = row[1]\n",
    "        if category in sum_count_PA12:\n",
    "            sum_count_PA12[category] += value\n",
    "        else:\n",
    "            sum_count_PA12[category] = value\n",
    "\n",
    "print(sum_count_PA12)\n"
   ]
  },
  {
   "cell_type": "code",
   "execution_count": 27,
   "metadata": {},
   "outputs": [],
   "source": [
    "# Use Update Cursor to populate the total count values for each protected area/habitat \n",
    "# intersection in the final analysis table\n",
    "\n",
    "# Variables\n",
    "category_field = \"HabitatCod\"\n",
    "update_field = \"GAP_1_2_Count\"\n",
    "\n",
    "with arcpy.da.UpdateCursor(config.ABC_Analysis_Table, [category_field, update_field]) as cursor:\n",
    "    for row in cursor:\n",
    "        category = row[0]\n",
    "        if category in sum_count_PA12:\n",
    "            row[1] = sum_count_PA12[category]\n",
    "            cursor.updateRow(row)"
   ]
  },
  {
   "cell_type": "code",
   "execution_count": 28,
   "metadata": {
    "scrolled": true
   },
   "outputs": [
    {
     "name": "stdout",
     "output_type": "stream",
     "text": [
      "{10100: 1133065800.0, 10200: 93075261300.0, 10300: 6612338700.0, 10302: 20141065800.0, 10400: 21142852200.0, 10404: 25649871300.0, 10405: 14209218000.0, 10500: 6111161100.0, 10600: 27877500.0, 10606: 1758595500.0, 10607: 3632115600.0, 10608: 689771700.0, 10700: 809956800.0, 10800: 757961100.0, 10900: 2226339900.0, 11000: 15158235600.0, 11100: 31605639300.0, 11200: 25588847700.0, 11300: 1337076900.0, 21400: 8509030200.0, 21500: 21830411700.0, 21600: 50845522500.0, 21700: 9588215700.0, 21800: 43740023400.0, 21809: 38307373200.0, 21900: 639497700.0, 22100: 16448298300.0, 22200: 232230600.0, 32200: 5503771800.0, 32300: 44464364100.0, 32311: 2603081700.0, 32312: 6336611100.0, 32400: 8691825600.0, 32413: 2392502400.0, 32500: 6022376100.0, 32515: 113675400.0, 32516: 15500700.0, 32600: 78083547300.0, 32700: 18876091500.0, 32800: 5705200800.0, 32900: 4411987200.0, 32916: 1482824700.0, 33000: 1226752200.0, 43610: 767581200.0, 43620: 89184600.0, 53810: 75647700.0, 53820: 43542000.0, 63917: 180957600.0, 63918: 1036393200.0, 64000: 6602900400.0, 64100: 4202254800.0, 64200: 178254000.0, 64300: 4398309900.0, 64400: 3635373600.0, 64500: 46444368600.0, 74600: 3375222300.0, 74700: 2020444200.0, 74719: 194533200.0, 74720: 388685700.0, 74721: 101483100.0, 74722: 1368773100.0, 74723: 1759352400.0, 74800: 28970001000.0, 74900: 5910571800.0, 75000: 3380369400.0, 75310: 270719100.0, 75320: 323170200.0, 85400: 10546182000.0, 85424: 1119706200.0, 95600: 379312200.0, 95700: 2582829000.0, 95800: 1919039400.0, 95900: 93460756500.0, 95925: 26604798300.0, 96000: 33143612400.0, 96100: 114378715800.0, 96146: 1337966100.0, 106200: 3179243700.0, 106300: 20603416500.0, 106326: 2956260600.0, 106400: 48524713200.0, 106500: 49528279800.0, 106700: 100737900.0, 117100: 1853601300.0, 117200: 288781200.0, 117328: 1743539400.0, 117329: 1039329000.0, 117330: 3787541100.0, 117331: 351000.0, 117431: 27900.0, 117533: 354766500.0, 117534: 418465800.0, 117535: 42747300.0, 117637: 849226500.0, 117638: 3755974500.0, 117639: 23743494900.0, 117701: 397800.0, 117702: 88449300.0, 117900: 4090127400.0, 118040: 2954700.0, 118041: 156600.0, 118042: 246319200.0, 118100: 4786292700.0, 128200: 1438203600.0, 128300: 7733022300.0, 128400: 27688451400.0, 128445: 136082700.0, 128500: 3184777800.0, 128600: 9753446700.0}\n"
     ]
    }
   ],
   "source": [
    "# Sum the total area for each habitat and store values in a dictionary.\n",
    "\n",
    "# Dictionary to store sum of area column\n",
    "\n",
    "sum_area_PA12 = {}\n",
    "\n",
    "# Define the category and value fields\n",
    "category_field = \"HabitatCod\"\n",
    "value_field = \"Area\"\n",
    "\n",
    "with arcpy.da.SearchCursor(config.output_int_PA, [category_field, value_field]) as cursor:\n",
    "    for row in cursor:\n",
    "        category = row[0]\n",
    "        value = row[1]\n",
    "        if category in sum_area_PA12:\n",
    "            sum_area_PA12[category] += value\n",
    "        else:\n",
    "            sum_area_PA12[category] = value\n",
    "\n",
    "print(sum_area_PA12)"
   ]
  },
  {
   "cell_type": "code",
   "execution_count": 29,
   "metadata": {},
   "outputs": [],
   "source": [
    "# Use Update Cursor to populate the total area values for each protected area/habitat \n",
    "# intersection in the final analysis table\n",
    "\n",
    "# Variables\n",
    "category_field = \"HabitatCod\"\n",
    "update_field = \"GAP_1_2_Area\"\n",
    "\n",
    "with arcpy.da.UpdateCursor(config.ABC_Analysis_Table, [category_field, update_field]) as cursor:\n",
    "    for row in cursor:\n",
    "        category = row[0]\n",
    "        if category in sum_area_PA12:\n",
    "            row[1] = sum_area_PA12[category]\n",
    "            cursor.updateRow(row)"
   ]
  },
  {
   "cell_type": "code",
   "execution_count": 30,
   "metadata": {},
   "outputs": [
    {
     "name": "stdout",
     "output_type": "stream",
     "text": [
      "Table updated.\n"
     ]
    }
   ],
   "source": [
    "# Use Update Cursor to calculate the proportion of each habitat that is protected\n",
    "# based on the Protected_Areas_GAP_1_2 layer\n",
    "\n",
    "with arcpy.da.UpdateCursor(os.path.join(config.project_folder_final, config.gdb_final + \".gdb\", config.ABC_Analysis_Table),\n",
    "                           (\"Subtype_Count\", \"GAP_1_2_Count\", \"Protected_Area_1_2\")) as cursor:\n",
    "    for row in cursor:\n",
    "        Subtype_Count = row[0]\n",
    "        PAD_1_2_Count = row[1]\n",
    "        \n",
    "        #Ensure neither Subtype_Count nor PAD_1_2_Count is None or 0 to avoid division error\n",
    "        if Subtype_Count is not None and PAD_1_2_Count is not None and Subtype_Count !=0:\n",
    "            Subtype_proportion = PAD_1_2_Count/Subtype_Count\n",
    "        else:\n",
    "            Subtype_proportion = None \n",
    "        \n",
    "        # Use an update cursor to insert new values into the table\n",
    "        row[2] = Subtype_proportion\n",
    "        cursor.updateRow(row)\n",
    "        \n",
    "print(\"Table updated.\")"
   ]
  },
  {
   "cell_type": "markdown",
   "metadata": {},
   "source": [
    "REPEAT STEPS FOR PROTECTED AREAS LAYER THAT INCLUDES GAP 1-3."
   ]
  },
  {
   "cell_type": "code",
   "execution_count": 31,
   "metadata": {},
   "outputs": [
    {
     "name": "stdout",
     "output_type": "stream",
     "text": [
      "Table complete.\n"
     ]
    }
   ],
   "source": [
    "# Calculate area each habitat type intersects with the GAP 1 - 3\n",
    "# Protected Areas layer using tabulate area.\n",
    "\n",
    "in_zone_data = config.HabMap_tif\n",
    "zone_field = \"HabitatCod\"\n",
    "in_class_data = config.PA_1_2_3\n",
    "class_field = \"Loc_Ds\"\n",
    "out_table = os.path.join(config.project_folder_int, config.gdb_int + \".gdb\", config.output_int_PA123)\n",
    "processing_cell_size = config.HabMap_tif\n",
    "classes_as_rows = \"CLASSES_AS_ROWS\"\n",
    "\n",
    "arcpy.sa.TabulateArea(\n",
    "    in_zone_data,\n",
    "    zone_field,\n",
    "    in_class_data,\n",
    "    class_field,\n",
    "    out_table,\n",
    "    processing_cell_size,\n",
    "    classes_as_rows\n",
    ")\n",
    "\n",
    "print(\"Table complete.\")"
   ]
  },
  {
   "cell_type": "code",
   "execution_count": 32,
   "metadata": {},
   "outputs": [
    {
     "name": "stdout",
     "output_type": "stream",
     "text": [
      "{10100: 1990610.0, 10200: 191747881.0, 10300: 17925357.0, 10302: 62078524.0, 10400: 35282418.0, 10404: 139074045.0, 10405: 65467610.0, 10500: 52939117.0, 10600: 48472.0, 10606: 8111469.0, 10607: 15879477.0, 10608: 1591094.0, 10700: 1814431.0, 10800: 1735224.0, 10900: 4971519.0, 11000: 53678758.0, 11100: 104545191.0, 11200: 121645013.0, 11300: 4797657.0, 21400: 47449302.0, 21500: 56166286.0, 21600: 106579111.0, 21700: 21508350.0, 21800: 254016943.0, 21809: 294385328.0, 21900: 753627.0, 22100: 36352760.0, 22200: 1504012.0, 32200: 9219451.0, 32300: 122566794.0, 32311: 5906766.0, 32312: 17745263.0, 32400: 32647999.0, 32413: 8615147.0, 32500: 18232443.0, 32515: 280427.0, 32516: 18464.0, 32600: 119206683.0, 32700: 38549539.0, 32800: 30330007.0, 32900: 8390772.0, 32916: 2903298.0, 33000: 3533275.0, 43610: 2446240.0, 43620: 592691.0, 53810: 200407.0, 53820: 75927.0, 63917: 635664.0, 63918: 2094683.0, 64000: 13882497.0, 64100: 14354907.0, 64200: 478060.0, 64300: 18469296.0, 64400: 7805120.0, 64500: 96694745.0, 74600: 20609122.0, 74700: 2582063.0, 74719: 234248.0, 74720: 443660.0, 74721: 342178.0, 74722: 1679449.0, 74723: 3357592.0, 74800: 114958666.0, 74900: 9649259.0, 75000: 16562302.0, 75310: 572034.0, 75320: 901022.0, 85400: 28761377.0, 85424: 1833459.0, 95600: 421458.0, 95700: 4846883.0, 95800: 2371460.0, 95900: 153352953.0, 95925: 29771791.0, 96000: 116895067.0, 96100: 160416601.0, 96146: 2039858.0, 106200: 4506601.0, 106300: 42162886.0, 106326: 9069493.0, 106400: 71114638.0, 106500: 75889827.0, 106700: 122601.0, 117100: 2167082.0, 117200: 342122.0, 117328: 2481233.0, 117329: 1343137.0, 117330: 4728621.0, 117331: 437.0, 117431: 36.0, 117533: 542359.0, 117534: 539512.0, 117535: 49780.0, 117637: 1035623.0, 117638: 5701910.0, 117639: 32345265.0, 117701: 535.0, 117702: 98873.0, 117900: 4868920.0, 118040: 4942.0, 118041: 307.0, 118042: 371688.0, 118100: 19933380.0, 128200: 5151802.0, 128300: 27152886.0, 128400: 39834246.0, 128445: 184990.0, 128500: 13171022.0, 128600: 15621263.0}\n"
     ]
    }
   ],
   "source": [
    "# Sum the total count for each habitat and store values in a dictionary.\n",
    "\n",
    "# Dictionary to store sum of count column\n",
    "\n",
    "sum_count_PA123 = {}\n",
    "\n",
    "# Define the category and value fields\n",
    "category_field = \"HabitatCod\"\n",
    "value_field = \"Count\"\n",
    "\n",
    "with arcpy.da.SearchCursor(config.output_int_PA123, [category_field, value_field]) as cursor:\n",
    "    for row in cursor:\n",
    "        category = row[0]\n",
    "        value = row[1]\n",
    "        if category in sum_count_PA123:\n",
    "            sum_count_PA123[category] += value\n",
    "        else:\n",
    "            sum_count_PA123[category] = value\n",
    "\n",
    "print(sum_count_PA123)\n"
   ]
  },
  {
   "cell_type": "code",
   "execution_count": 33,
   "metadata": {},
   "outputs": [],
   "source": [
    "# Use Update Cursor to populate the total count values for each protected area/habitat \n",
    "# intersection in the final analysis table\n",
    "\n",
    "# Variables\n",
    "category_field = \"HabitatCod\"\n",
    "update_field = \"GAP_1_2_3_Count\"\n",
    "\n",
    "with arcpy.da.UpdateCursor(config.ABC_Analysis_Table, [category_field, update_field]) as cursor:\n",
    "    for row in cursor:\n",
    "        category = row[0]\n",
    "        if category in sum_count_PA123:\n",
    "            row[1] = sum_count_PA123[category]\n",
    "            cursor.updateRow(row)"
   ]
  },
  {
   "cell_type": "code",
   "execution_count": 34,
   "metadata": {},
   "outputs": [
    {
     "name": "stdout",
     "output_type": "stream",
     "text": [
      "{10100: 1791549000.0, 10200: 172573092900.0, 10300: 16132821300.0, 10302: 55870671600.0, 10400: 31754176200.0, 10404: 125166640500.0, 10405: 58920849000.0, 10500: 47645205300.0, 10600: 43624800.0, 10606: 7300322100.0, 10607: 14291529300.0, 10608: 1431984600.0, 10700: 1632987900.0, 10800: 1561701600.0, 10900: 4474367100.0, 11000: 48310882200.0, 11100: 94090671900.0, 11200: 109480511700.0, 11300: 4317891300.0, 21400: 42704371800.0, 21500: 50549657400.0, 21600: 95921199900.0, 21700: 19357515000.0, 21800: 228615248700.0, 21809: 264946795200.0, 21900: 678264300.0, 22100: 32717484000.0, 22200: 1353610800.0, 32200: 8297505900.0, 32300: 110310114600.0, 32311: 5316089400.0, 32312: 15970736700.0, 32400: 29383199100.0, 32413: 7753632300.0, 32500: 16409198700.0, 32515: 252384300.0, 32516: 16617600.0, 32600: 107286014700.0, 32700: 34694585100.0, 32800: 27297006300.0, 32900: 7551694800.0, 32916: 2612968200.0, 33000: 3179947500.0, 43610: 2201616000.0, 43620: 533421900.0, 53810: 180366300.0, 53820: 68334300.0, 63917: 572097600.0, 63918: 1885214700.0, 64000: 12494247300.0, 64100: 12919416300.0, 64200: 430254000.0, 64300: 16622366400.0, 64400: 7024608000.0, 64500: 87025270500.0, 74600: 18548209800.0, 74700: 2323856700.0, 74719: 210823200.0, 74720: 399294000.0, 74721: 307960200.0, 74722: 1511504100.0, 74723: 3021832800.0, 74800: 103462799400.0, 74900: 8684333100.0, 75000: 14906071800.0, 75310: 514830600.0, 75320: 810919800.0, 85400: 25885239300.0, 85424: 1650113100.0, 95600: 379312200.0, 95700: 4362194700.0, 95800: 2134314000.0, 95900: 138017657700.0, 95925: 26794611900.0, 96000: 105205560300.0, 96100: 144374940900.0, 96146: 1835872200.0, 106200: 4055940900.0, 106300: 37946597400.0, 106326: 8162543700.0, 106400: 64003174200.0, 106500: 68300844300.0, 106700: 110340900.0, 117100: 1950373800.0, 117200: 307909800.0, 117328: 2233109700.0, 117329: 1208823300.0, 117330: 4255758900.0, 117331: 393300.0, 117431: 32400.0, 117533: 488123100.0, 117534: 485560800.0, 117535: 44802000.0, 117637: 932060700.0, 117638: 5131719000.0, 117639: 29110738500.0, 117701: 481500.0, 117702: 88985700.0, 117900: 4382028000.0, 118040: 4447800.0, 118041: 276300.0, 118042: 334519200.0, 118100: 17940042000.0, 128200: 4636621800.0, 128300: 24437597400.0, 128400: 35850821400.0, 128445: 166491000.0, 128500: 11853919800.0, 128600: 14059136700.0}\n"
     ]
    }
   ],
   "source": [
    "# Sum the total area for each habitat and store values in a dictionary.\n",
    "\n",
    "# Dictionary to store sum of area column\n",
    "\n",
    "sum_area_PA123 = {}\n",
    "\n",
    "# Define the category and value fields\n",
    "category_field = \"HabitatCod\"\n",
    "value_field = \"Area\"\n",
    "\n",
    "with arcpy.da.SearchCursor(config.output_int_PA123, [category_field, value_field]) as cursor:\n",
    "    for row in cursor:\n",
    "        category = row[0]\n",
    "        value = row[1]\n",
    "        if category in sum_area_PA123:\n",
    "            sum_area_PA123[category] += value\n",
    "        else:\n",
    "            sum_area_PA123[category] = value\n",
    "\n",
    "print(sum_area_PA123)"
   ]
  },
  {
   "cell_type": "code",
   "execution_count": 35,
   "metadata": {},
   "outputs": [],
   "source": [
    "# Use Update Cursor to populate the total area values for each protected area/habitat \n",
    "# intersection in the final analysis table\n",
    "\n",
    "# Variables\n",
    "category_field = \"HabitatCod\"\n",
    "update_field = \"GAP_1_2_3_Area\"\n",
    "\n",
    "with arcpy.da.UpdateCursor(config.ABC_Analysis_Table, [category_field, update_field]) as cursor:\n",
    "    for row in cursor:\n",
    "        category = row[0]\n",
    "        if category in sum_area_PA123:\n",
    "            row[1] = sum_area_PA123[category]\n",
    "            cursor.updateRow(row)"
   ]
  },
  {
   "cell_type": "code",
   "execution_count": 36,
   "metadata": {},
   "outputs": [
    {
     "name": "stdout",
     "output_type": "stream",
     "text": [
      "Table updated.\n"
     ]
    }
   ],
   "source": [
    "# Use Update Cursor to calculate the proportion of each habitat that is protected\n",
    "# based on the Protected_Areas_GAP_1_2 layer\n",
    "\n",
    "with arcpy.da.UpdateCursor(os.path.join(config.project_folder_final, config.gdb_final + \".gdb\", config.ABC_Analysis_Table),\n",
    "                           (\"Subtype_Count\", \"GAP_1_2_3_Count\", \"Protected_Area_1_2_3\")) as cursor:\n",
    "    for row in cursor:\n",
    "        Subtype_Count = row[0]\n",
    "        PAD_1_2_3_Count = row[1]\n",
    "        \n",
    "        # Ensure neither Subtype_Count nor PAD_1_2_3_Count is None or 0 to avoid division error\n",
    "        if Subtype_Count is not None and PAD_1_2_3_Count is not None and Subtype_Count != 0:\n",
    "            Subtype_proportion = PAD_1_2_3_Count/Subtype_Count\n",
    "        else:\n",
    "            Subtype_proportion = None\n",
    "        \n",
    "        # Use an update cursor to insert new values into the table\n",
    "        row[2] = Subtype_proportion\n",
    "        cursor.updateRow(row)\n",
    "        \n",
    "print(\"Table updated.\")"
   ]
  },
  {
   "cell_type": "markdown",
   "metadata": {},
   "source": [
    "Calculate the proportion of protected habitat for just GAP 3 in the US."
   ]
  },
  {
   "cell_type": "code",
   "execution_count": 37,
   "metadata": {},
   "outputs": [
    {
     "name": "stdout",
     "output_type": "stream",
     "text": [
      "Table updated.\n"
     ]
    }
   ],
   "source": [
    "# Use Update Cursor to calculate the proportion of each habitat that is protected\n",
    "# based on PAD GAP 3 in the US.\n",
    "\n",
    "with arcpy.da.UpdateCursor(os.path.join(config.project_folder_final, config.gdb_final + \".gdb\", config.ABC_Analysis_Table),\n",
    "                           (\"Protected_Area_1_2\", \"Protected_Area_1_2_3\", \"Protected_Area_US_GAP3\")) as cursor:\n",
    "    for row in cursor:\n",
    "        PA_1_2 = row[0]\n",
    "        PA_1_2_3 = row[1]\n",
    "        \n",
    "        # Ensure neither PA_1_2_3 nor PA_1_2 is None or 0 to avoid division error\n",
    "        if PA_1_2_3 is not None and PA_1_2 is not None and PA_1_2_3 != 0:\n",
    "            GAP3_US_proportion = PA_1_2_3 - PA_1_2\n",
    "        else:\n",
    "            GAP3_US_proportion = None\n",
    "        \n",
    "        # Use an update cursor to insert new values into the table\n",
    "        row[2] = GAP3_US_proportion\n",
    "        cursor.updateRow(row)\n",
    "        \n",
    "print(\"Table updated.\")"
   ]
  },
  {
   "cell_type": "code",
   "execution_count": null,
   "metadata": {},
   "outputs": [],
   "source": []
  }
 ],
 "metadata": {
  "kernelspec": {
   "display_name": "ArcGISPro",
   "language": "Python",
   "name": "python3"
  },
  "language_info": {
   "file_extension": ".py",
   "name": "python",
   "version": "3"
  }
 },
 "nbformat": 4,
 "nbformat_minor": 2
}
