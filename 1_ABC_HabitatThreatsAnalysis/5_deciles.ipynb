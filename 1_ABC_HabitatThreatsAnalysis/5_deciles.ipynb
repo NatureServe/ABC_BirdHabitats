{
 "cells": [
  {
   "cell_type": "code",
   "execution_count": 4,
   "metadata": {},
   "outputs": [
    {
     "name": "stdout",
     "output_type": "stream",
     "text": [
      "S:\\Projects\\ABC\\y2025\\Pro\\Draft\\ABC_RSR_Calculation_Pro\\ABC_RSR_Calculation\n"
     ]
    }
   ],
   "source": [
    "# Check Current Working Directory\n",
    "import os\n",
    "print(os.getcwd())"
   ]
  },
  {
   "cell_type": "code",
   "execution_count": 3,
   "metadata": {},
   "outputs": [],
   "source": [
    "# Change working directory to the notebook's directory if needed \n",
    "# This ensures the config.py file in the same directory as the notebook can be referenced\n",
    "os.chdir(r'S:\\Projects\\ABC\\y2025\\Pro\\Draft\\ABC_RSR_Calculation_Pro\\ABC_RSR_Calculation')"
   ]
  },
  {
   "cell_type": "code",
   "execution_count": 6,
   "metadata": {},
   "outputs": [],
   "source": [
    "# Module search path: Also ensures that the directory containing 'config.py' is in the Python search path ('sys.path').\n",
    "import sys\n",
    "sys.path.append(r'S:\\Projects\\ABC\\y2025\\Pro\\Draft\\ABC_RSR_Calculation_Pro\\ABC_RSR_Calculation')"
   ]
  },
  {
   "cell_type": "code",
   "execution_count": 7,
   "metadata": {},
   "outputs": [
    {
     "name": "stdout",
     "output_type": "stream",
     "text": [
      "Environments set from config file.\n",
      "Paths set from config file.\n",
      "File and variable names set from config file.\n"
     ]
    }
   ],
   "source": [
    "import arcpy\n",
    "import os\n",
    "import config\n",
    "import numpy as np"
   ]
  },
  {
   "cell_type": "code",
   "execution_count": 8,
   "metadata": {},
   "outputs": [],
   "source": [
    "workspace_final = os.path.join(config.project_folder_final, f\"{config.gdb_final}.gdb\")\n",
    "workspace_int = os.path.join(config.project_folder_int, f\"{config.gdb_int}.gdb\")"
   ]
  },
  {
   "cell_type": "code",
   "execution_count": 9,
   "metadata": {},
   "outputs": [],
   "source": [
    "arcpy.env.workspace = workspace_final"
   ]
  },
  {
   "cell_type": "code",
   "execution_count": 10,
   "metadata": {},
   "outputs": [
    {
     "name": "stdout",
     "output_type": "stream",
     "text": [
      "Decile classification complete.\n"
     ]
    }
   ],
   "source": [
    "# Calculate the deciles for RSR ('DecileExtent')\n",
    "\n",
    "feature_class = config.ABC_Analysis_Table\n",
    "field = 'Subtype_RSR'  # The field you want to calculate deciles for\n",
    "decile_field = 'DecileExtent'  # The new field to store the decile classification\n",
    "\n",
    "# Add a field to store the deciles if it doesn't already exist\n",
    "if not arcpy.ListFields(feature_class, decile_field):\n",
    "    arcpy.AddField_management(feature_class, decile_field, 'DOUBLE')\n",
    "\n",
    "# Get all the values from the field\n",
    "values = [row[0] for row in arcpy.da.SearchCursor(feature_class, [field])]\n",
    "\n",
    "if values:\n",
    "    \n",
    "    # Calculate deciles using numpy\n",
    "    deciles = np.quantile(values, [.10, .20, .30, .40, .50, .60, .70, .80, .90])\n",
    "\n",
    "    # Classify the values into deciles and update the feature class\n",
    "    with arcpy.da.UpdateCursor(feature_class, [field, decile_field]) as cursor:\n",
    "        for row in cursor:\n",
    "            value = row[0]\n",
    "            if value <= deciles[0]:\n",
    "                row[1] = 1\n",
    "            elif value <= deciles[1]:\n",
    "                row[1] = 2\n",
    "            elif value <= deciles[2]:\n",
    "                row[1] = 3\n",
    "            elif value <= deciles[3]:\n",
    "                row[1] = 4\n",
    "            elif value <= deciles[4]:\n",
    "                row[1] = 5\n",
    "            elif value <= deciles[5]:\n",
    "                row[1] = 6\n",
    "            elif value <= deciles[6]:\n",
    "                row[1] = 7\n",
    "            elif value <= deciles[7]:\n",
    "                row[1] = 8\n",
    "            elif value <= deciles[8]:\n",
    "                row[1] = 9\n",
    "            else:\n",
    "                row[1] = 10\n",
    "            cursor.updateRow(row)\n",
    "            \n",
    "    print(\"Decile classification complete.\")\n",
    "else:\n",
    "    print(\"No valid numeric data found in the field. Decile classification skipped.\")"
   ]
  },
  {
   "cell_type": "code",
   "execution_count": 11,
   "metadata": {},
   "outputs": [
    {
     "name": "stdout",
     "output_type": "stream",
     "text": [
      "Added field 'DecileProtection' to the table.\n",
      "DecileProtection classification complete with overrides.\n"
     ]
    }
   ],
   "source": [
    "# Calculate the deciles for Protection ('DecileProtection')\n",
    "# Override the DecileProtection value for Rice to be 1\n",
    "# Override the DecileProtection value for Polar Desert to be 10 - no longer\n",
    "# relevant as Polar Desert was reclassified in a map update\n",
    "\n",
    "# Define feature class and fields\n",
    "feature_class = config.ABC_Analysis_Table\n",
    "field = 'Protected_Area_1_2'  # The field you want to calculate deciles for\n",
    "decile_field = 'DecileProtection'  # The new field to store the decile classification\n",
    "habitat_code_field = 'HabitatCod'  # Field to identify HabitatCod\n",
    "\n",
    "# HabitatCod overrides\n",
    "override_values = {\n",
    "    128445: 1,  # Set DecileProtection to 1\n",
    "    95500: 10   # Set DecileProtection to 10\n",
    "}\n",
    "\n",
    "# Step 1: Add a field to store the deciles if it doesn't already exist\n",
    "if not arcpy.ListFields(feature_class, decile_field):\n",
    "    arcpy.AddField_management(feature_class, decile_field, 'DOUBLE')\n",
    "    print(f\"Added field '{decile_field}' to the table.\")\n",
    "\n",
    "# Step 2: Get all the values from the field and filter out None values\n",
    "values = [row[0] for row in arcpy.da.SearchCursor(feature_class, [field]) if row[0] is not None]\n",
    "\n",
    "# Calculate deciles using numpy (we will invert this logic)\n",
    "deciles = np.quantile(values, [.10, .20, .30, .40, .50, .60, .70, .80, .90])\n",
    "\n",
    "# Step 3: Classify the values into inverse deciles and update the feature class\n",
    "with arcpy.da.UpdateCursor(feature_class, [field, decile_field, habitat_code_field]) as cursor:\n",
    "    for row in cursor:\n",
    "        value = row[0]\n",
    "        habitat_cod = row[2]\n",
    "\n",
    "        # Check for HabitatCod overrides\n",
    "        if habitat_cod in override_values:\n",
    "            row[1] = override_values[habitat_cod]  # Set override value\n",
    "        elif value is None:\n",
    "            row[1] = None  # Handle None values (or assign a default if needed)\n",
    "        else:\n",
    "            # Inverse decile classification: higher values go to lower decile\n",
    "            if value >= deciles[8]:\n",
    "                row[1] = 1\n",
    "            elif value >= deciles[7]:\n",
    "                row[1] = 2\n",
    "            elif value >= deciles[6]:\n",
    "                row[1] = 3\n",
    "            elif value >= deciles[5]:\n",
    "                row[1] = 4\n",
    "            elif value >= deciles[4]:\n",
    "                row[1] = 5\n",
    "            elif value >= deciles[3]:\n",
    "                row[1] = 6\n",
    "            elif value >= deciles[2]:\n",
    "                row[1] = 7\n",
    "            elif value >= deciles[1]:\n",
    "                row[1] = 8\n",
    "            elif value >= deciles[0]:\n",
    "                row[1] = 9\n",
    "            else:\n",
    "                row[1] = 10\n",
    "        \n",
    "        cursor.updateRow(row)\n",
    "\n",
    "print(\"DecileProtection classification complete with overrides.\")"
   ]
  },
  {
   "cell_type": "code",
   "execution_count": 12,
   "metadata": {},
   "outputs": [
    {
     "name": "stdout",
     "output_type": "stream",
     "text": [
      "Decile classification complete.\n"
     ]
    }
   ],
   "source": [
    "# Calculate the deciles for LCVC ('DecileConversion')\n",
    "\n",
    "feature_class = config.ABC_Analysis_Table\n",
    "field = 'Conversion_Mean'  # The field you want to calculate deciles for\n",
    "decile_field = 'DecileConversion'  # The new field to store the decile classification\n",
    "\n",
    "# Add a field to store the deciles if it doesn't already exist\n",
    "if not arcpy.ListFields(feature_class, decile_field):\n",
    "    arcpy.AddField_management(feature_class, decile_field, 'DOUBLE')\n",
    "\n",
    "# Get all the values from the field\n",
    "values = [row[0] for row in arcpy.da.SearchCursor(feature_class, [field])]\n",
    "\n",
    "# Calculate deciles using numpy\n",
    "deciles = np.quantile(values, [.10, .20, .30, .40, .50, .60, .70, .80, .90])\n",
    "\n",
    "# Classify the values into deciles and update the feature class\n",
    "with arcpy.da.UpdateCursor(feature_class, [field, decile_field]) as cursor:\n",
    "    for row in cursor:\n",
    "        value = row[0]\n",
    "        if value <= deciles[0]:\n",
    "            row[1] = 1\n",
    "        elif value <= deciles[1]:\n",
    "            row[1] = 2\n",
    "        elif value <= deciles[2]:\n",
    "            row[1] = 3\n",
    "        elif value <= deciles[3]:\n",
    "            row[1] = 4\n",
    "        elif value <= deciles[4]:\n",
    "            row[1] = 5\n",
    "        elif value <= deciles[5]:\n",
    "            row[1] = 6\n",
    "        elif value <= deciles[6]:\n",
    "            row[1] = 7\n",
    "        elif value <= deciles[7]:\n",
    "            row[1] = 8\n",
    "        elif value <= deciles[8]:\n",
    "            row[1] = 9\n",
    "        else:\n",
    "            row[1] = 10\n",
    "        cursor.updateRow(row)\n",
    "    \n",
    "print(\"Decile classification complete.\")"
   ]
  },
  {
   "cell_type": "code",
   "execution_count": 13,
   "metadata": {},
   "outputs": [
    {
     "name": "stdout",
     "output_type": "stream",
     "text": [
      "Added field 'DecileCondition' to the table.\n",
      "Inverse decile classification complete.\n"
     ]
    }
   ],
   "source": [
    "# Calculate the deciles for Condition ('DecileCondition')\n",
    "# Override the DecileCondition value for Rice to be 1\n",
    "\n",
    "# Set the feature class and fields\n",
    "feature_class = config.ABC_Analysis_Table\n",
    "field = 'Condition_Mean'  # The field you want to calculate deciles for\n",
    "decile_field = 'DecileCondition'  # The new field to store the decile classification\n",
    "habitat_code_field = 'HabitatCod'  # Field to identify HabitatCod\n",
    "override_habitat_cod = 128445  # HabitatCod for override\n",
    "override_decile_value = 1  # Value to override DecileCondition\n",
    "\n",
    "# Step 1: Add a field to store the deciles if it doesn't already exist\n",
    "if not arcpy.ListFields(feature_class, decile_field):\n",
    "    arcpy.AddField_management(feature_class, decile_field, 'DOUBLE')\n",
    "    print(f\"Added field '{decile_field}' to the table.\")\n",
    "\n",
    "# Step 2: Get all the values from the field\n",
    "values = [row[0] for row in arcpy.da.SearchCursor(feature_class, [field]) if row[0] is not None]\n",
    "\n",
    "# Calculate deciles using numpy (we will invert this logic)\n",
    "deciles = np.quantile(values, [.10, .20, .30, .40, .50, .60, .70, .80, .90])\n",
    "\n",
    "# Step 3: Classify the values into inverse deciles and update the feature class\n",
    "with arcpy.da.UpdateCursor(feature_class, [field, decile_field, habitat_code_field]) as cursor:\n",
    "    for row in cursor:\n",
    "        value = row[0]\n",
    "        habitat_cod = row[2]\n",
    "\n",
    "        # Check for the override condition\n",
    "        if habitat_cod == override_habitat_cod:\n",
    "            row[1] = override_decile_value  # Override DecileCondition with 1\n",
    "        else:\n",
    "            # Inverse decile classification: higher values go to lower decile\n",
    "            if value >= deciles[8]:\n",
    "                row[1] = 1\n",
    "            elif value >= deciles[7]:\n",
    "                row[1] = 2\n",
    "            elif value >= deciles[6]:\n",
    "                row[1] = 3\n",
    "            elif value >= deciles[5]:\n",
    "                row[1] = 4\n",
    "            elif value >= deciles[4]:\n",
    "                row[1] = 5\n",
    "            elif value >= deciles[3]:\n",
    "                row[1] = 6\n",
    "            elif value >= deciles[2]:\n",
    "                row[1] = 7\n",
    "            elif value >= deciles[1]:\n",
    "                row[1] = 8\n",
    "            elif value >= deciles[0]:\n",
    "                row[1] = 9\n",
    "            else:\n",
    "                row[1] = 10\n",
    "        \n",
    "        cursor.updateRow(row)\n",
    "\n",
    "print(\"Inverse decile classification complete.\")"
   ]
  },
  {
   "cell_type": "code",
   "execution_count": 14,
   "metadata": {},
   "outputs": [
    {
     "name": "stdout",
     "output_type": "stream",
     "text": [
      "Decile classification complete.\n"
     ]
    }
   ],
   "source": [
    "# Calculate the deciles for Climate Velocity ('DecileClimate')\n",
    "\n",
    "feature_class = config.ABC_Analysis_Table\n",
    "field = 'Climate_Mean'  # The field you want to calculate deciles for\n",
    "decile_field = 'DecileClimate'  # The new field to store the decile classification\n",
    "\n",
    "# Add a field to store the deciles if it doesn't already exist\n",
    "if not arcpy.ListFields(feature_class, decile_field):\n",
    "    arcpy.AddField_management(feature_class, decile_field, 'DOUBLE')\n",
    "\n",
    "# Get all the values from the field\n",
    "values = [row[0] for row in arcpy.da.SearchCursor(feature_class, [field])]\n",
    "\n",
    "# Calculate deciles using numpy\n",
    "deciles = np.quantile(values, [.10, .20, .30, .40, .50, .60, .70, .80, .90])\n",
    "\n",
    "# Classify the values into deciles and update the feature class\n",
    "with arcpy.da.UpdateCursor(feature_class, [field, decile_field]) as cursor:\n",
    "    for row in cursor:\n",
    "        value = row[0]\n",
    "        if value <= deciles[0]:\n",
    "            row[1] = 1\n",
    "        elif value <= deciles[1]:\n",
    "            row[1] = 2\n",
    "        elif value <= deciles[2]:\n",
    "            row[1] = 3\n",
    "        elif value <= deciles[3]:\n",
    "            row[1] = 4\n",
    "        elif value <= deciles[4]:\n",
    "            row[1] = 5\n",
    "        elif value <= deciles[5]:\n",
    "            row[1] = 6\n",
    "        elif value <= deciles[6]:\n",
    "            row[1] = 7\n",
    "        elif value <= deciles[7]:\n",
    "            row[1] = 8\n",
    "        elif value <= deciles[8]:\n",
    "            row[1] = 9\n",
    "        else:\n",
    "            row[1] = 10\n",
    "        cursor.updateRow(row)\n",
    "    \n",
    "print(\"Decile classification complete.\")"
   ]
  },
  {
   "cell_type": "code",
   "execution_count": 17,
   "metadata": {},
   "outputs": [
    {
     "name": "stdout",
     "output_type": "stream",
     "text": [
      "Decile classification complete.\n"
     ]
    }
   ],
   "source": [
    "# Calculate the deciles for Obligation ('DecileObligation')\n",
    "\n",
    "feature_class = config.ABC_Analysis_Table\n",
    "field = 'Raw_Obligation_scores'  # The field you want to calculate deciles for\n",
    "decile_field = 'DecileObligation'  # The new field to store the decile classification\n",
    "\n",
    "# Add a field to store the deciles if it doesn't already exist\n",
    "if not arcpy.ListFields(feature_class, decile_field):\n",
    "    arcpy.AddField_management(feature_class, decile_field, 'DOUBLE')\n",
    "\n",
    "# Get all the values from the field\n",
    "values = [row[0] for row in arcpy.da.SearchCursor(feature_class, [field])]\n",
    "\n",
    "# Calculate deciles using numpy\n",
    "deciles = np.quantile(values, [.10, .20, .30, .40, .50, .60, .70, .80, .90])\n",
    "\n",
    "# Classify the values into deciles and update the feature class\n",
    "with arcpy.da.UpdateCursor(feature_class, [field, decile_field]) as cursor:\n",
    "    for row in cursor:\n",
    "        value = row[0]\n",
    "        if value <= deciles[0]:\n",
    "            row[1] = 1\n",
    "        elif value <= deciles[1]:\n",
    "            row[1] = 2\n",
    "        elif value <= deciles[2]:\n",
    "            row[1] = 3\n",
    "        elif value <= deciles[3]:\n",
    "            row[1] = 4\n",
    "        elif value <= deciles[4]:\n",
    "            row[1] = 5\n",
    "        elif value <= deciles[5]:\n",
    "            row[1] = 6\n",
    "        elif value <= deciles[6]:\n",
    "            row[1] = 7\n",
    "        elif value <= deciles[7]:\n",
    "            row[1] = 8\n",
    "        elif value <= deciles[8]:\n",
    "            row[1] = 9\n",
    "        else:\n",
    "            row[1] = 10\n",
    "        cursor.updateRow(row)\n",
    "    \n",
    "print(\"Decile classification complete.\")"
   ]
  },
  {
   "cell_type": "code",
   "execution_count": 18,
   "metadata": {},
   "outputs": [
    {
     "name": "stdout",
     "output_type": "stream",
     "text": [
      "Decile classification complete.\n"
     ]
    }
   ],
   "source": [
    "# Calculate the deciles for Bird Conservation ('DecileConservation')\n",
    "\n",
    "feature_class = config.ABC_Analysis_Table\n",
    "field = 'Raw_conservation_Concern_scores'  # The field you want to calculate deciles for\n",
    "decile_field = 'DecileConservation'  # The new field to store the decile classification\n",
    "\n",
    "# Add a field to store the deciles if it doesn't already exist\n",
    "if not arcpy.ListFields(feature_class, decile_field):\n",
    "    arcpy.AddField_management(feature_class, decile_field, 'DOUBLE')\n",
    "\n",
    "# Get all the values from the field\n",
    "values = [row[0] for row in arcpy.da.SearchCursor(feature_class, [field])]\n",
    "\n",
    "# Calculate deciles using numpy\n",
    "deciles = np.quantile(values, [.10, .20, .30, .40, .50, .60, .70, .80, .90])\n",
    "\n",
    "# Classify the values into deciles and update the feature class\n",
    "with arcpy.da.UpdateCursor(feature_class, [field, decile_field]) as cursor:\n",
    "    for row in cursor:\n",
    "        value = row[0]\n",
    "        if value <= deciles[0]:\n",
    "            row[1] = 1\n",
    "        elif value <= deciles[1]:\n",
    "            row[1] = 2\n",
    "        elif value <= deciles[2]:\n",
    "            row[1] = 3\n",
    "        elif value <= deciles[3]:\n",
    "            row[1] = 4\n",
    "        elif value <= deciles[4]:\n",
    "            row[1] = 5\n",
    "        elif value <= deciles[5]:\n",
    "            row[1] = 6\n",
    "        elif value <= deciles[6]:\n",
    "            row[1] = 7\n",
    "        elif value <= deciles[7]:\n",
    "            row[1] = 8\n",
    "        elif value <= deciles[8]:\n",
    "            row[1] = 9\n",
    "        else:\n",
    "            row[1] = 10\n",
    "        cursor.updateRow(row)\n",
    "    \n",
    "print(\"Decile classification complete.\")"
   ]
  },
  {
   "cell_type": "code",
   "execution_count": 19,
   "metadata": {},
   "outputs": [
    {
     "name": "stdout",
     "output_type": "stream",
     "text": [
      "Added field 'ThreatScore' to the table.\n",
      "Added field 'Score_Status' to the table.\n",
      "ThreatScore and Score_Status fields updated successfully.\n"
     ]
    }
   ],
   "source": [
    "# Import necessary modules\n",
    "import arcpy\n",
    "import math  # For rounding up decimals\n",
    "\n",
    "# Define the feature class or table and the fields you will use\n",
    "feature_class = config.ABC_Analysis_Table  \n",
    "\n",
    "# Define the fields to process and their weights\n",
    "field_weights = {\n",
    "    'DecileExtent': 2.0,         # Double\n",
    "    'DecileProtection': 1.5,    # Increase by 1.5\n",
    "    'DecileConversion': 1.5,    # Increase by 1.5\n",
    "    'DecileCondition': 1.0,     # No weight\n",
    "    'DecileClimate': 1.0,       # No weight\n",
    "    'DecileObligation': 1.0,    # No weight\n",
    "    'DecileConservation': 2.0   # Double\n",
    "}\n",
    "\n",
    "# List of HabitatCod values for which ThreatScore should be voided\n",
    "void_habitat_codes = [128600, 117638, 117637, 117639, 128500, 128200, 128300, 117701, 117702, 128400, 117900]\n",
    "\n",
    "# Name of the fields\n",
    "habitat_code_field = 'HabitatCod'  # Adjust the field name to match your dataset\n",
    "threat_score_field = 'ThreatScore'\n",
    "score_status_field = 'Score_Status'\n",
    "\n",
    "# Step 1: Add the ThreatScore field to the table if it doesn't already exist\n",
    "if not arcpy.ListFields(feature_class, threat_score_field):\n",
    "    arcpy.AddField_management(feature_class, threat_score_field, \"DOUBLE\")\n",
    "    print(f\"Added field '{threat_score_field}' to the table.\")\n",
    "\n",
    "# Step 2: Add the Score_Status field to the table if it doesn't already exist\n",
    "if not arcpy.ListFields(feature_class, score_status_field):\n",
    "    arcpy.AddField_management(feature_class, score_status_field, \"TEXT\", field_length=20)\n",
    "    print(f\"Added field '{score_status_field}' to the table.\")\n",
    "\n",
    "# Step 3: Use an UpdateCursor to calculate and update the ThreatScore and Score_Status fields\n",
    "fields = list(field_weights.keys()) + [habitat_code_field, threat_score_field, score_status_field]\n",
    "\n",
    "with arcpy.da.UpdateCursor(feature_class, fields) as cursor:\n",
    "    for row in cursor:\n",
    "        # Check if HabitatCod is in the void list\n",
    "        habitat_code = row[-3]  # Third-to-last field\n",
    "        if habitat_code in void_habitat_codes:\n",
    "            # Void the ThreatScore and set Score_Status to 'Unscored'\n",
    "            row[-2] = None  # ThreatScore set to NULL\n",
    "            row[-1] = \"Unscored\"\n",
    "        else:\n",
    "            # Calculate the weighted sum for ThreatScore\n",
    "            threat_score = 0\n",
    "            for i, field in enumerate(field_weights.keys()):\n",
    "                value = row[i]  # Get the value for the field\n",
    "                if value is not None:  # Skip None values\n",
    "                    threat_score += value * field_weights[field]  # Apply the weight\n",
    "\n",
    "            # Round up the threat score if it has a decimal\n",
    "            row[-2] = math.ceil(threat_score)  # Assign rounded-up value to the ThreatScore field\n",
    "            row[-1] = \"Scored\"  # Set Score_Status to 'Scored'\n",
    "        \n",
    "        cursor.updateRow(row)\n",
    "\n",
    "print(\"ThreatScore and Score_Status fields updated successfully.\")"
   ]
  },
  {
   "cell_type": "markdown",
   "metadata": {},
   "source": [
    "Create a Watchlist Field to flag the highest 15% of threat scores as Red, the next highest 15% as Yellow, the unscored habitats as 'Not Applicable', and the rest as Green."
   ]
  },
  {
   "cell_type": "code",
   "execution_count": 20,
   "metadata": {},
   "outputs": [
    {
     "name": "stdout",
     "output_type": "stream",
     "text": [
      "Added field 'Watchlist' to the table.\n",
      "Watchlist categorization complete.\n"
     ]
    }
   ],
   "source": [
    "# Import necessary modules\n",
    "import arcpy\n",
    "\n",
    "# Define feature class and fields\n",
    "feature_class = config.ABC_Analysis_Table\n",
    "threat_score_field = 'ThreatScore'  # Field storing threat scores\n",
    "watchlist_field = 'Watchlist'       # Field to categorize habitats\n",
    "\n",
    "# Step 1: Add the Watchlist field if it doesn't already exist\n",
    "if not arcpy.ListFields(feature_class, watchlist_field):\n",
    "    arcpy.AddField_management(feature_class, watchlist_field, 'TEXT', field_length=20)\n",
    "    print(f\"Added field '{watchlist_field}' to the table.\")\n",
    "\n",
    "# Step 2: Retrieve threat scores and habitat codes\n",
    "data = []\n",
    "with arcpy.da.SearchCursor(feature_class, ['HabitatCod', threat_score_field]) as cursor:\n",
    "    for row in cursor:\n",
    "        data.append(row)\n",
    "\n",
    "# Step 3: Identify thresholds for 'Red' and 'Yellow' categories\n",
    "valid_scores = [row[1] for row in data if row[1] is not None]  # Filter out null scores\n",
    "valid_scores.sort(reverse=True)\n",
    "\n",
    "# Calculate thresholds for the top 15% and next 15%\n",
    "n = len(valid_scores)\n",
    "if n > 0:\n",
    "    red_threshold_index = max(1, int(0.15 * n))  # Top 15% index (at least 1)\n",
    "    yellow_threshold_index = max(1, int(0.30 * n))  # Top 30% index (includes next 15%)\n",
    "\n",
    "    red_threshold = valid_scores[red_threshold_index - 1]\n",
    "    yellow_threshold = valid_scores[yellow_threshold_index - 1]\n",
    "else:\n",
    "    red_threshold = None\n",
    "    yellow_threshold = None\n",
    "\n",
    "# Step 4: Update the Watchlist field\n",
    "with arcpy.da.UpdateCursor(feature_class, ['HabitatCod', threat_score_field, watchlist_field]) as cursor:\n",
    "    for row in cursor:\n",
    "        habitat_cod = row[0]\n",
    "        threat_score = row[1]\n",
    "\n",
    "        # Assign Watchlist category\n",
    "        if threat_score is None:\n",
    "            row[2] = 'Not Applicable'\n",
    "        elif threat_score >= red_threshold:\n",
    "            row[2] = 'Red'\n",
    "        elif threat_score >= yellow_threshold:\n",
    "            row[2] = 'Yellow'\n",
    "        else:\n",
    "            row[2] = 'Green'\n",
    "\n",
    "        cursor.updateRow(row)\n",
    "\n",
    "print(\"Watchlist categorization complete.\")"
   ]
  },
  {
   "cell_type": "markdown",
   "metadata": {},
   "source": [
    "OLD - PULL IN DECILE STATS THAT WERE RUN BY CHRIS FOR CLIMATE VELOCITY.\n",
    "LATER UPDATE THE SCRIPT TO JUST CALCULATE THAT HERE. ALSO OLD Threat Score Sum Script."
   ]
  },
  {
   "cell_type": "code",
   "execution_count": 13,
   "metadata": {},
   "outputs": [
    {
     "name": "stdout",
     "output_type": "stream",
     "text": [
      "Added field 'ThreatScore' to the table.\n",
      "ThreatScore calculation complete.\n"
     ]
    }
   ],
   "source": [
    "# Sum the decile values to get a threat score for each subtype\n",
    "\n",
    "# Define the feature class or table and the fields you will use\n",
    "feature_class = config.ABC_Analysis_Table  \n",
    "\n",
    "# List the fields you want to sum for the ThreatScore\n",
    "fields_to_sum = ['DecileExtent','DecileProtection','DecileConversion','DecileCondition', 'DecileClimate', 'DecileObligation', 'DecileConservation']  \n",
    "\n",
    "# Name of the new field to store the sum (ThreatScore)\n",
    "threat_score_field = 'ThreatScore'\n",
    "\n",
    "# Step 1: Add the ThreatScore field to the table if it doesn't already exist\n",
    "if not arcpy.ListFields(feature_class, threat_score_field):\n",
    "    arcpy.AddField_management(feature_class, threat_score_field, \"DOUBLE\")\n",
    "    print(f\"Added field '{threat_score_field}' to the table.\")\n",
    "\n",
    "# Step 2: Update the ThreatScore field by summing values from the five specified fields\n",
    "# Fields to include in the cursor: the five fields to sum + the new ThreatScore field\n",
    "fields = fields_to_sum + [threat_score_field]\n",
    "\n",
    "# Step 3: Use an UpdateCursor to calculate and update the ThreatScore field\n",
    "with arcpy.da.UpdateCursor(feature_class, fields) as cursor:\n",
    "    for row in cursor:\n",
    "        # Sum the values from the five fields\n",
    "        sum_of_fields = sum([val for val in row[:-1] if val is not None])  # Ignore None values during the summation\n",
    "        row[-1] = sum_of_fields  # Assign the sum to the ThreatScore field\n",
    "        cursor.updateRow(row)\n",
    "\n",
    "print(\"ThreatScore calculation complete.\")"
   ]
  },
  {
   "cell_type": "code",
   "execution_count": 33,
   "metadata": {},
   "outputs": [
    {
     "name": "stdout",
     "output_type": "stream",
     "text": [
      "Table updated.\n"
     ]
    }
   ],
   "source": [
    "# Populate the final analysis table with the Climate Velocity Decile scores.\n",
    "\n",
    "# Define table names and join field\n",
    "final_table = config.ABC_Analysis_Table\n",
    "intermediate_table = \"ZonalSt_fwvel731_ensemble_8gcm_370_2041_2070\"\n",
    "join_field = \"HabitatCod\"\n",
    "\n",
    "# Step 1: Add a permanent field 'Conversion_Mean' in the final analysis table before applying the join\n",
    "conversion_field = \"DecileClimate\"\n",
    "arcpy.management.AddField(final_table, conversion_field, \"DOUBLE\")\n",
    "\n",
    "# Step 2: Add the join\n",
    "arcpy.management.AddJoin(final_table, join_field, intermediate_table, join_field)\n",
    "\n",
    "# Step 3: Read values from the 'Decile' field in the intermediate table\n",
    "fields = [\"{}.DecileMean\".format(intermediate_table), \"{}.{}\".format(final_table, conversion_field)]\n",
    "\n",
    "# Use a search cursor to gather the MEAN values from the intermediate table\n",
    "mean_values = []\n",
    "with arcpy.da.SearchCursor(final_table, fields) as cursor:\n",
    "    for row in cursor:\n",
    "        mean_values.append(row[0])  # Store the 'MEAN' values\n",
    "\n",
    "# Step 4: Remove the join before updating the table\n",
    "arcpy.management.RemoveJoin(final_table)\n",
    "\n",
    "# Step 5: Use an update cursor to populate the 'Conversion_Mean' field with the stored MEAN values\n",
    "with arcpy.da.UpdateCursor(final_table, [conversion_field]) as cursor:\n",
    "    for i, row in enumerate(cursor):\n",
    "        row[0] = mean_values[i]  # Assign the stored 'MEAN' value to the 'Conversion_Mean' field\n",
    "        cursor.updateRow(row)\n",
    "\n",
    "print(\"Table updated.\")"
   ]
  },
  {
   "cell_type": "code",
   "execution_count": null,
   "metadata": {},
   "outputs": [],
   "source": []
  }
 ],
 "metadata": {
  "kernelspec": {
   "display_name": "ArcGISPro",
   "language": "Python",
   "name": "python3"
  },
  "language_info": {
   "file_extension": ".py",
   "name": "python",
   "version": "3"
  }
 },
 "nbformat": 4,
 "nbformat_minor": 2
}
