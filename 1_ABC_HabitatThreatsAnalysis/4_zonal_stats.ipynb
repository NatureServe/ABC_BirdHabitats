{
 "cells": [
  {
   "cell_type": "markdown",
   "metadata": {},
   "source": [
    "This script is to calculate the average LCVC stat for every 49sqmi hex, the average LCVC stat for every subtype, and the average LCM stat for every subtype."
   ]
  },
  {
   "cell_type": "code",
   "execution_count": 3,
   "metadata": {},
   "outputs": [
    {
     "name": "stdout",
     "output_type": "stream",
     "text": [
      "S:\\Projects\\ABC\\y2025\\Pro\\Draft\\ABC_RSR_Calculation_Pro\\ABC_RSR_Calculation\n"
     ]
    }
   ],
   "source": [
    "# Check Current Working Directory\n",
    "import os\n",
    "print(os.getcwd())"
   ]
  },
  {
   "cell_type": "code",
   "execution_count": 2,
   "metadata": {},
   "outputs": [],
   "source": [
    "# Change working directory to the notebook's directory if needed \n",
    "# This ensures the config.py file in the same directory as the notebook can be referenced\n",
    "os.chdir(r'S:\\Projects\\ABC\\y2025\\Pro\\Draft\\ABC_RSR_Calculation_Pro\\ABC_RSR_Calculation')"
   ]
  },
  {
   "cell_type": "code",
   "execution_count": 4,
   "metadata": {},
   "outputs": [],
   "source": [
    "# Module search path: Also ensures that the directory containing 'config.py' is in the Python search path ('sys.path').\n",
    "import sys\n",
    "sys.path.append(r'S:\\Projects\\ABC\\y2025\\Pro\\Draft\\ABC_RSR_Calculation_Pro\\ABC_RSR_Calculation')"
   ]
  },
  {
   "cell_type": "code",
   "execution_count": 5,
   "metadata": {},
   "outputs": [
    {
     "name": "stdout",
     "output_type": "stream",
     "text": [
      "Environments set from config file.\n",
      "Paths set from config file.\n",
      "File and variable names set from config file.\n"
     ]
    }
   ],
   "source": [
    "import arcpy\n",
    "import os\n",
    "import config"
   ]
  },
  {
   "cell_type": "code",
   "execution_count": 6,
   "metadata": {},
   "outputs": [],
   "source": [
    "workspace_final = os.path.join(config.project_folder_final, f\"{config.gdb_final}.gdb\")\n",
    "workspace_int = os.path.join(config.project_folder_int, f\"{config.gdb_int}.gdb\")"
   ]
  },
  {
   "cell_type": "code",
   "execution_count": 7,
   "metadata": {},
   "outputs": [],
   "source": [
    "arcpy.env.workspace = workspace_int"
   ]
  },
  {
   "cell_type": "code",
   "execution_count": 12,
   "metadata": {},
   "outputs": [
    {
     "name": "stdout",
     "output_type": "stream",
     "text": [
      "Table complete.\n"
     ]
    }
   ],
   "source": [
    "# Calculate the average LCVC score for each 49sqmi hexagon.\n",
    "\n",
    "lcvc_lookup = config.LCVC_Lookup\n",
    "in_zone_data = config.wheel_grid\n",
    "zone_field = \"wheel_id\"\n",
    "in_value_raster = config.LCVC_Lookup\n",
    "out_table = os.path.join(config.project_folder_int, config.gdb_int + \".gdb\", config.LCVC_table)\n",
    "ignore_nodata = \"DATA\"\n",
    "statistics_type = \"MEAN\"\n",
    "process_as_multidimensional = \"CURRENT_SLICE\"\n",
    "percentile_values = 90\n",
    "percentile_interpolation_type = \"AUTO_DETECT\"\n",
    "circular_calculation = \"ARITHMETIC\"\n",
    "circular_wrap_value = 360\n",
    "out_join_layer = None\n",
    "\n",
    "with arcpy.EnvManager(extent=\"MAXOF\", cellSize = lcvc_lookup):\n",
    "    with arcpy.EnvManager(extent=\"MAXOF\", cellSize = lcvc_lookup):\n",
    "        arcpy.sa.ZonalStatisticsAsTable(\n",
    "            in_zone_data,\n",
    "            zone_field,\n",
    "            in_value_raster,\n",
    "            out_table,\n",
    "            ignore_nodata,\n",
    "            statistics_type,\n",
    "            process_as_multidimensional,\n",
    "            percentile_values,\n",
    "            percentile_interpolation_type,\n",
    "            circular_calculation,\n",
    "            circular_wrap_value,\n",
    "            out_join_layer\n",
    "        )\n",
    "        \n",
    "print(\"Table complete.\")"
   ]
  },
  {
   "cell_type": "code",
   "execution_count": 8,
   "metadata": {},
   "outputs": [
    {
     "name": "stdout",
     "output_type": "stream",
     "text": [
      "Table complete.\n"
     ]
    }
   ],
   "source": [
    "# Calculate the average LCVC score for each subtype.\n",
    "\n",
    "lcvc_lookup = config.LCVC_Lookup\n",
    "in_zone_data = config.HabMap_tif\n",
    "zone_field = \"HabitatCod\"\n",
    "in_value_raster = config.LCVC_Lookup\n",
    "out_table = os.path.join(config.project_folder_int, config.gdb_int + \".gdb\", config.LCVC_subtype_table)\n",
    "ignore_nodata = \"DATA\"\n",
    "statistics_type = \"MEAN\"\n",
    "process_as_multidimensional = \"CURRENT_SLICE\"\n",
    "percentile_values = 90\n",
    "percentile_interpolation_type = \"AUTO_DETECT\"\n",
    "circular_calculation = \"ARITHMETIC\"\n",
    "circular_wrap_value = 360\n",
    "out_join_layer = None\n",
    "\n",
    "with arcpy.EnvManager(extent=\"MAXOF\", cellSize = lcvc_lookup):\n",
    "    with arcpy.EnvManager(extent=\"MAXOF\", cellSize = lcvc_lookup):\n",
    "        arcpy.sa.ZonalStatisticsAsTable(\n",
    "            in_zone_data,\n",
    "            zone_field,\n",
    "            in_value_raster,\n",
    "            out_table,\n",
    "            ignore_nodata,\n",
    "            statistics_type,\n",
    "            process_as_multidimensional,\n",
    "            percentile_values,\n",
    "            percentile_interpolation_type,\n",
    "            circular_calculation,\n",
    "            circular_wrap_value,\n",
    "            out_join_layer\n",
    "        )\n",
    "        \n",
    "print(\"Table complete.\")"
   ]
  },
  {
   "cell_type": "code",
   "execution_count": 9,
   "metadata": {},
   "outputs": [
    {
     "name": "stdout",
     "output_type": "stream",
     "text": [
      "Table updated.\n"
     ]
    }
   ],
   "source": [
    "# Populate the final analysis table with the LCVC subtype mean scores.\n",
    "\n",
    "# Define table names and join field\n",
    "final_table = config.ABC_Analysis_Table\n",
    "intermediate_table = config.LCVC_subtype_table\n",
    "join_field = \"HabitatCod\"\n",
    "\n",
    "# Step 1: Add a permanent field 'Conversion_Mean' in the final analysis table before applying the join\n",
    "conversion_field = \"Conversion_Mean\"\n",
    "arcpy.management.AddField(final_table, conversion_field, \"DOUBLE\")\n",
    "\n",
    "# Step 2: Add the join\n",
    "arcpy.management.AddJoin(final_table, join_field, intermediate_table, join_field)\n",
    "\n",
    "# Step 3: Read values from the 'MEAN' field in the intermediate table\n",
    "fields = [\"{}.MEAN\".format(intermediate_table), \"{}.{}\".format(final_table, conversion_field)]\n",
    "\n",
    "# Use a search cursor to gather the MEAN values from the intermediate table\n",
    "mean_values = []\n",
    "with arcpy.da.SearchCursor(final_table, fields) as cursor:\n",
    "    for row in cursor:\n",
    "        mean_values.append(row[0])  # Store the 'MEAN' values\n",
    "\n",
    "# Step 4: Remove the join before updating the table\n",
    "arcpy.management.RemoveJoin(final_table)\n",
    "\n",
    "# Step 5: Use an update cursor to populate the 'Conversion_Mean' field with the stored MEAN values\n",
    "with arcpy.da.UpdateCursor(final_table, [conversion_field]) as cursor:\n",
    "    for i, row in enumerate(cursor):\n",
    "        row[0] = mean_values[i]  # Assign the stored 'MEAN' value to the 'Conversion_Mean' field\n",
    "        cursor.updateRow(row)\n",
    "\n",
    "print(\"Table updated.\")"
   ]
  },
  {
   "cell_type": "code",
   "execution_count": 10,
   "metadata": {},
   "outputs": [
    {
     "name": "stdout",
     "output_type": "stream",
     "text": [
      "Table complete.\n"
     ]
    }
   ],
   "source": [
    "# Calculate the average LCM score for each subtype.\n",
    "\n",
    "lcm_data = config.LCM_data\n",
    "in_zone_data = config.HabMap_tif\n",
    "zone_field = \"HabitatCod\"\n",
    "in_value_raster = config.LCM_data\n",
    "out_table = os.path.join(config.project_folder_int, config.gdb_int + \".gdb\", config.LCM_subtype_table)\n",
    "ignore_nodata = \"DATA\"\n",
    "statistics_type = \"MEAN\"\n",
    "process_as_multidimensional = \"CURRENT_SLICE\"\n",
    "percentile_values = 90\n",
    "percentile_interpolation_type = \"AUTO_DETECT\"\n",
    "circular_calculation = \"ARITHMETIC\"\n",
    "circular_wrap_value = 360\n",
    "out_join_layer = None\n",
    "\n",
    "with arcpy.EnvManager(extent=\"MAXOF\", cellSize = lcm_data):\n",
    "    with arcpy.EnvManager(extent=\"MAXOF\", cellSize = lcm_data):\n",
    "        arcpy.sa.ZonalStatisticsAsTable(\n",
    "            in_zone_data,\n",
    "            zone_field,\n",
    "            in_value_raster,\n",
    "            out_table,\n",
    "            ignore_nodata,\n",
    "            statistics_type,\n",
    "            process_as_multidimensional,\n",
    "            percentile_values,\n",
    "            percentile_interpolation_type,\n",
    "            circular_calculation,\n",
    "            circular_wrap_value,\n",
    "            out_join_layer\n",
    "        )\n",
    "        \n",
    "print(\"Table complete.\")"
   ]
  },
  {
   "cell_type": "code",
   "execution_count": 11,
   "metadata": {},
   "outputs": [
    {
     "name": "stdout",
     "output_type": "stream",
     "text": [
      "Table updated.\n"
     ]
    }
   ],
   "source": [
    "# Populate the final analysis table with the LCM subtype mean scores.\n",
    "\n",
    "# Define table names and join field\n",
    "final_table = config.ABC_Analysis_Table\n",
    "intermediate_table = config.LCM_subtype_table\n",
    "join_field = \"HabitatCod\"\n",
    "\n",
    "# Step 1: Add a permanent field 'Condition_Mean' in the final analysis table before applying the join\n",
    "conversion_field = \"Condition_Mean\"\n",
    "arcpy.management.AddField(final_table, conversion_field, \"DOUBLE\")\n",
    "\n",
    "# Step 2: Add the join\n",
    "arcpy.management.AddJoin(final_table, join_field, intermediate_table, join_field)\n",
    "\n",
    "# Step 3: Read values from the 'MEAN' field in the intermediate table\n",
    "fields = [\"{}.MEAN\".format(intermediate_table), \"{}.{}\".format(final_table, conversion_field)]\n",
    "\n",
    "# Use a search cursor to gather the MEAN values from the intermediate table\n",
    "mean_values = []\n",
    "with arcpy.da.SearchCursor(final_table, fields) as cursor:\n",
    "    for row in cursor:\n",
    "        mean_values.append(row[0])  # Store the 'MEAN' values\n",
    "\n",
    "# Step 4: Remove the join before updating the table\n",
    "arcpy.management.RemoveJoin(final_table)\n",
    "\n",
    "# Step 5: Use an update cursor to populate the 'Conversion_Mean' field with the stored MEAN values\n",
    "with arcpy.da.UpdateCursor(final_table, [conversion_field]) as cursor:\n",
    "    for i, row in enumerate(cursor):\n",
    "        row[0] = mean_values[i]  # Assign the stored 'MEAN' value to the 'Conversion_Mean' field\n",
    "        cursor.updateRow(row)\n",
    "\n",
    "print(\"Table updated.\")"
   ]
  },
  {
   "cell_type": "code",
   "execution_count": 8,
   "metadata": {},
   "outputs": [
    {
     "name": "stdout",
     "output_type": "stream",
     "text": [
      "Table complete.\n"
     ]
    }
   ],
   "source": [
    "# Calculate the average Climate Velocity score for each subtype.\n",
    "\n",
    "cv_data = config.CV_data\n",
    "in_zone_data = config.HabMap_tif\n",
    "zone_field = \"HabitatCod\"\n",
    "in_value_raster = config.CV_data\n",
    "out_table = os.path.join(config.project_folder_int, config.gdb_int + \".gdb\", config.CV_subtype_table)\n",
    "ignore_nodata = \"DATA\"\n",
    "statistics_type = \"MEAN\"\n",
    "process_as_multidimensional = \"CURRENT_SLICE\"\n",
    "percentile_values = 90\n",
    "percentile_interpolation_type = \"AUTO_DETECT\"\n",
    "circular_calculation = \"ARITHMETIC\"\n",
    "circular_wrap_value = 360\n",
    "out_join_layer = None\n",
    "\n",
    "with arcpy.EnvManager(extent=\"MAXOF\", cellSize = cv_data):\n",
    "    with arcpy.EnvManager(extent=\"MAXOF\", cellSize = cv_data):\n",
    "        arcpy.sa.ZonalStatisticsAsTable(\n",
    "            in_zone_data,\n",
    "            zone_field,\n",
    "            in_value_raster,\n",
    "            out_table,\n",
    "            ignore_nodata,\n",
    "            statistics_type,\n",
    "            process_as_multidimensional,\n",
    "            percentile_values,\n",
    "            percentile_interpolation_type,\n",
    "            circular_calculation,\n",
    "            circular_wrap_value,\n",
    "            out_join_layer\n",
    "        )\n",
    "        \n",
    "print(\"Table complete.\")"
   ]
  },
  {
   "cell_type": "code",
   "execution_count": 9,
   "metadata": {},
   "outputs": [
    {
     "name": "stdout",
     "output_type": "stream",
     "text": [
      "Table updated.\n"
     ]
    }
   ],
   "source": [
    "# Populate the final analysis table with the Climate Velocity subtype mean scores.\n",
    "\n",
    "# Define table names and join field\n",
    "final_table = config.ABC_Analysis_Table\n",
    "intermediate_table = config.CV_subtype_table\n",
    "join_field = \"HabitatCod\"\n",
    "\n",
    "# Step 1: Add a permanent field 'Condition_Mean' in the final analysis table before applying the join\n",
    "conversion_field = \"Climate_Mean\"\n",
    "arcpy.management.AddField(final_table, conversion_field, \"DOUBLE\")\n",
    "\n",
    "# Step 2: Add the join\n",
    "arcpy.management.AddJoin(final_table, join_field, intermediate_table, join_field)\n",
    "\n",
    "# Step 3: Read values from the 'MEAN' field in the intermediate table\n",
    "fields = [\"{}.MEAN\".format(intermediate_table), \"{}.{}\".format(final_table, conversion_field)]\n",
    "\n",
    "# Use a search cursor to gather the MEAN values from the intermediate table\n",
    "mean_values = []\n",
    "with arcpy.da.SearchCursor(final_table, fields) as cursor:\n",
    "    for row in cursor:\n",
    "        mean_values.append(row[0])  # Store the 'MEAN' values\n",
    "\n",
    "# Step 4: Remove the join before updating the table\n",
    "arcpy.management.RemoveJoin(final_table)\n",
    "\n",
    "# Step 5: Use an update cursor to populate the 'Conversion_Mean' field with the stored MEAN values\n",
    "with arcpy.da.UpdateCursor(final_table, [conversion_field]) as cursor:\n",
    "    for i, row in enumerate(cursor):\n",
    "        row[0] = mean_values[i]  # Assign the stored 'MEAN' value to the 'Climate_Mean' field\n",
    "        cursor.updateRow(row)\n",
    "\n",
    "print(\"Table updated.\")"
   ]
  },
  {
   "cell_type": "markdown",
   "metadata": {},
   "source": [
    "NOT NEEDED NOW: PULL IN ZONAL STATS FROM CLIMATE VELOCITY DATA"
   ]
  },
  {
   "cell_type": "code",
   "execution_count": 8,
   "metadata": {},
   "outputs": [
    {
     "name": "stdout",
     "output_type": "stream",
     "text": [
      "Table updated.\n"
     ]
    }
   ],
   "source": [
    "# Populate the final analysis table with the Climate Velocity mean scores.\n",
    "\n",
    "# Define table names and join field\n",
    "final_table = config.ABC_Analysis_Table\n",
    "intermediate_table = \"ABC35_ForwardVelocity\"\n",
    "join_field = \"HabitatCod\"\n",
    "\n",
    "# Step 1: Add a permanent field 'Climate_Mean' in the final analysis table before applying the join\n",
    "conversion_field = \"Climate_Mean\"\n",
    "arcpy.management.AddField(final_table, conversion_field, \"DOUBLE\")\n",
    "\n",
    "# Step 2: Read values from the intermediate table into a dictionary\n",
    "mean_dict = {}\n",
    "with arcpy.da.SearchCursor(intermediate_table, [join_field, \"MEAN\"]) as cursor:\n",
    "    for row in cursor:\n",
    "        habitat_code = row[0]\n",
    "        mean_value = row[1]\n",
    "        mean_dict[habitat_code] = mean_value  # Store HabitatCod as key and MEAN as value\n",
    "\n",
    "# Step 3: Use an update cursor to populate the 'Climate_Mean' field with the corresponding MEAN values\n",
    "with arcpy.da.UpdateCursor(final_table, [join_field, conversion_field]) as cursor:\n",
    "    for row in cursor:\n",
    "        habitat_code = row[0]\n",
    "        row[1] = mean_dict.get(habitat_code, 0)  # Assign MEAN or 0 if no match\n",
    "        cursor.updateRow(row)\n",
    "\n",
    "print(\"Table updated.\")"
   ]
  },
  {
   "cell_type": "code",
   "execution_count": null,
   "metadata": {},
   "outputs": [],
   "source": []
  }
 ],
 "metadata": {
  "kernelspec": {
   "display_name": "ArcGISPro",
   "language": "Python",
   "name": "python3"
  },
  "language_info": {
   "file_extension": ".py",
   "name": "python",
   "version": "3"
  }
 },
 "nbformat": 4,
 "nbformat_minor": 2
}
