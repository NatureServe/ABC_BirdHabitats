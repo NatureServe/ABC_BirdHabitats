{
 "cells": [
  {
   "cell_type": "code",
   "execution_count": 1,
   "metadata": {},
   "outputs": [],
   "source": [
    "# This is one option for reading in the config file - but then would have to alter the rest of the script to eliminate config.variable, etc. \n",
    "# With this method, just need the variable names from config file and not config.variable_name\n",
    "# Load the configuration settin\n",
    "# exec(open(r'S:\\Projects\\ABC\\y2025\\Pro\\Draft\\ABC_RSR_Calculation_Pro\\ABC_RSR_Calculation\\config.py').read())"
   ]
  },
  {
   "cell_type": "code",
   "execution_count": 1,
   "metadata": {},
   "outputs": [
    {
     "name": "stdout",
     "output_type": "stream",
     "text": [
      "S:\\Projects\\ABC\\y2025\\Pro\\Draft\\ABC_RSR_Calculation_Pro\\ABC_RSR_Calculation\n"
     ]
    }
   ],
   "source": [
    "# Check Current Working Directory\n",
    "import os\n",
    "print(os.getcwd())"
   ]
  },
  {
   "cell_type": "code",
   "execution_count": 2,
   "metadata": {},
   "outputs": [],
   "source": [
    "# Change working directory to the notebook's directory if needed \n",
    "# This ensures the config.py file in the same directory as the notebook can be referenced\n",
    "os.chdir(r'S:\\Projects\\ABC\\y2025\\Pro\\Draft\\ABC_RSR_Calculation_Pro\\ABC_RSR_Calculation')"
   ]
  },
  {
   "cell_type": "code",
   "execution_count": 3,
   "metadata": {},
   "outputs": [],
   "source": [
    "# Module search path: Also ensures that the directory containing 'config.py' is in the Python search path ('sys.path').\n",
    "import sys\n",
    "sys.path.append(r'S:\\Projects\\ABC\\y2025\\Pro\\Draft\\ABC_RSR_Calculation_Pro\\ABC_RSR_Calculation')"
   ]
  },
  {
   "cell_type": "code",
   "execution_count": 4,
   "metadata": {},
   "outputs": [
    {
     "name": "stdout",
     "output_type": "stream",
     "text": [
      "Environments set from config file.\n",
      "Paths set from config file.\n",
      "File and variable names set from config file.\n"
     ]
    }
   ],
   "source": [
    "import arcpy\n",
    "import os\n",
    "import config"
   ]
  },
  {
   "cell_type": "code",
   "execution_count": 5,
   "metadata": {},
   "outputs": [],
   "source": [
    "# Check if the project folders (final, intermediate) exist, if not, create them\n",
    "if not os.path.exists(config.project_folder_final):\n",
    "    os.makedirs(config.project_folder_final)\n",
    "    \n",
    "if not os.path.exists(config.project_folder_int):\n",
    "    os.makedirs(config.project_folder_int)"
   ]
  },
  {
   "cell_type": "code",
   "execution_count": 6,
   "metadata": {},
   "outputs": [
    {
     "name": "stdout",
     "output_type": "stream",
     "text": [
      "Geodatabase 'ABC_final.gdb' already exists.\n",
      "Geodatabase 'ABC_intermediate.gdb' already exists.\n"
     ]
    }
   ],
   "source": [
    "# Create two geodatabases, final and intermediate, check if the gdb's exist\n",
    "\n",
    "# Create final gdb\n",
    "gdb_path_f = os.path.join(config.project_folder_final, f\"{config.gdb_final}.gdb\")\n",
    "if arcpy.Exists(gdb_path_f):\n",
    "    print(f\"Geodatabase '{config.gdb_final}.gdb' already exists.\")\n",
    "else: \n",
    "    arcpy.CreateFileGDB_management(config.project_folder_final, config.gdb_final)\n",
    "    print(f\"Geodatabase '{config.gdb_final}.gdb' created successfully.\")\n",
    "\n",
    "# Create intermediate gdb\n",
    "gdb_path_i = os.path.join(config.project_folder_int, f\"{config.gdb_int}.gdb\")\n",
    "if arcpy.Exists(gdb_path_i):\n",
    "    print(f\"Geodatabase '{config.gdb_int}.gdb' already exists.\")\n",
    "else:\n",
    "    arcpy.CreateFileGDB_management(config.project_folder_int, config.gdb_int)\n",
    "    print(f\"Geodatabase '{config.gdb_int}.gdb' created successfully.\")\n",
    "\n",
    "workspace_final = os.path.join(config.project_folder_final, f\"{config.gdb_final}.gdb\")\n",
    "workspace_int = os.path.join(config.project_folder_int, f\"{config.gdb_int}.gdb\")"
   ]
  },
  {
   "cell_type": "code",
   "execution_count": 7,
   "metadata": {},
   "outputs": [
    {
     "data": {
      "text/html": [
       "<div class='gpresult'><h2>Messages</h2><div id='messages' data-messages='[\"Start Time: Monday, January 27, 2025 3:53:36 PM\",\"Succeeded at Monday, January 27, 2025 3:53:40 PM (Elapsed Time: 3.24 seconds)\"]' data-show='true'><div id = 'default' /></div></div>"
      ],
      "text/plain": [
       "<Result 'S:\\\\Projects\\\\ABC\\\\y2025\\\\Data\\\\Intermediate\\\\intermediateABC_y2025\\\\ABC_intermediate.gdb\\\\ABCrsr_table'>"
      ]
     },
     "execution_count": 7,
     "metadata": {},
     "output_type": "execute_result"
    }
   ],
   "source": [
    "# read in the ABC_HabitatMap Attribute EXPORT csv to the intermediate gdb\n",
    "\n",
    "arcpy.env.workspace = workspace_int\n",
    "\n",
    "arcpy.TableToTable_conversion(config.input_csv, os.path.join(config.project_folder_int, f\"{config.gdb_int}.gdb\"), config.output_table)"
   ]
  },
  {
   "cell_type": "code",
   "execution_count": 8,
   "metadata": {},
   "outputs": [
    {
     "name": "stdout",
     "output_type": "stream",
     "text": [
      "['Subtype', 'HabitatCod', 'Subtype_Count']\n"
     ]
    }
   ],
   "source": [
    "# Create a new empty table to store the results\n",
    "\n",
    "arcpy.env.workspace = workspace_final\n",
    "\n",
    "# Check if the table already exists\n",
    "\n",
    "if arcpy.Exists(config.ABC_Analysis_Table):\n",
    "    overwrite = input(f\"Table '{config.ABC_Analysis_Table}' already exists. Do you want to overwrite it? Type 'yes' to proceed: \")\n",
    "    if overwrite.lower() != 'yes':\n",
    "        print(\"Exiting script, The table was not overwritten.\")\n",
    "        exit()\n",
    "    else:\n",
    "        arcpy.Delete_management(config.ABC_Analysis_Table)\n",
    "        print(f\"Table '{config.ABC_Analysis_Table}' deleted.\")\n",
    "        \n",
    "# Create new empty table\n",
    "    \n",
    "arcpy.CreateTable_management(arcpy.env.workspace, config.ABC_Analysis_Table)\n",
    "fields_to_fetch = [\"Subtype\", \"HabitatCod\", \"Subtype_Count\"]\n",
    "print(fields_to_fetch)\n",
    "\n",
    "for field in fields_to_fetch:\n",
    "    # Determine the field type for each field\n",
    "    field_type = None\n",
    "    \n",
    "    # Get the field type from the output table\n",
    "    for f in arcpy.ListFields(config.output_table):\n",
    "        if f.name == field:\n",
    "            field_type = f.type\n",
    "            break\n",
    "            \n",
    "    # If the field is \"Primary_Count\", set its type to \"DOUBLE\"\n",
    "    if field == \"Subtype_Count\":\n",
    "        field_type = \"DOUBLE\"\n",
    "        \n",
    "    # Add the field to the new table\n",
    "    arcpy.AddField_management(config.ABC_Analysis_Table, field, field_type)\n",
    "    \n",
    "# OLD CODE\n",
    "#for field in fields_to_fetch:\n",
    "    # Add fields to the new table based on fields_to_fetch\n",
    "    #field_type = [f.type for f in arcpy.ListFields(config.output_table) if f.name == field][0]\n",
    "    #arcpy.AddField_management(config.ABC_RSR_Analysis_Table, field, field_type)"
   ]
  },
  {
   "cell_type": "code",
   "execution_count": 9,
   "metadata": {},
   "outputs": [
    {
     "name": "stdout",
     "output_type": "stream",
     "text": [
      "('Subarctic Tundra Woodland', 10100, 266097841)\n",
      "('Boreal Conifer', 10200, 2512646772)\n",
      "('Northern Spruce-Fir Forest', 10300, 128362418)\n",
      "('Rocky Mountain Spruce-Fir Forest', 10302, 175996634)\n",
      "('General Nearctic Montane Mixed Conifer Forest', 10400, 67516481)\n",
      "('Rocky Mountain Mixed Conifer Forest', 10404, 294241766)\n",
      "('Sierra Nevada - Columbia Plateau Mixed Conifer Forest', 10405, 91267832)\n",
      "('Ponderosa Pine Forest', 10500, 102973924)\n",
      "('General Eastern Pine Savanna', 10600, 172617)\n",
      "('Shortleaf Pine', 10606, 30528944)\n",
      "('Longleaf Pine', 10607, 62724996)\n",
      "('Northeastern Pine Barrens', 10608, 3973766)\n",
      "('Appalachian Coniferous Forest', 10700, 25127775)\n",
      "('Nearctic High-elevation Pine Woodland', 10800, 1864924)\n",
      "('Jack Pine Forest', 10900, 12370426)\n",
      "('Lodgepole Pine Forest', 11000, 64598189)\n",
      "('Nearctic Temperate Rainforest', 11100, 290764747)\n",
      "('Pinyon-Juniper Woodland', 11200, 187136115)\n",
      "('Madrean Pine-Oak Woodland', 11300, 7884325)\n",
      "('Chihuahuan Desert', 21400, 159600251)\n",
      "('Sonoran Desert', 21500, 109417937)\n",
      "('Mojave Desert', 21600, 139922299)\n",
      "('Nearctic Desolate Desert', 21700, 33714440)\n",
      "('Interior Sagebrush Shrubland', 21800, 536542720)\n",
      "('Great Basin Shrubland', 21809, 375875287)\n",
      "('Tamaulipan Mezquital', 21900, 51847658)\n",
      "('Rocky Canyon', 22100, 56857620)\n",
      "('Eastern Mesquite', 22200, 55492616)\n",
      "('Cypress-Tupelo Gum Swamps', 32200, 38490190)\n",
      "('General Nearctic Temperate Deciduous Forest', 32300, 820833817)\n",
      "('Appalachian Cove Forest', 32311, 14653324)\n",
      "('Early Successional Temperate Deciduous Forest', 32312, 199952080)\n",
      "('General Nearctic Temperate Mixed Forest', 32400, 790867940)\n",
      "('Appalachian Pine-Oak Forest', 32413, 72139233)\n",
      "('General Nearctic Western Riparian Woodland', 32500, 71818163)\n",
      "('Western Mesquite', 32515, 1212912)\n",
      "('Lower Rio Grande Western Riparian Woodland', 32516, 126804)\n",
      "('Subarctic Riparian and Boreal Shrubland', 32600, 197933009)\n",
      "('Eastern Riparian Woodland', 32700, 176836568)\n",
      "('Aspen Forest and Parkland', 32800, 84870366)\n",
      "('General Bottomland Hardwood Forest', 32900, 76162918)\n",
      "('Pocosins and Evergreen Shrub Bogs', 32916, 9904759)\n",
      "('Coastal Live Oak and Hammock', 33000, 12700513)\n",
      "(\"General Wet 'Ohi'a Lehua-Koa Forest\", 43610, 3705524)\n",
      "('Hawaiian Non-Native Wet Forest', 43620, 2111217)\n",
      "('Native Mamane-Naio Dry Forest', 53810, 437815)\n",
      "('Exotic Mamane-Naio Dry Forest', 53820, 457187)\n",
      "('General Oak-Juniper Woodland', 63917, 24267371)\n",
      "('Edwards Plateau Oak Scrubland', 63918, 67551557)\n",
      "('California Oak Savanna', 64000, 63228190)\n",
      "('Madrean Encinal', 64100, 31424301)\n",
      "('Florida Scrub', 64200, 1657572)\n",
      "('Foothill Oak Shrubland', 64300, 41313609)\n",
      "('Nearctic Montane Shrubland', 64400, 12385494)\n",
      "('Boreal Shrubland', 64500, 1694322335)\n",
      "('Shortgrass Prairie', 74600, 266202785)\n",
      "('General Tallgrass Prairie', 74700, 74672919)\n",
      "('Eastern Oak Savanna', 74719, 2302039)\n",
      "('Gulf Coast Prairie', 74720, 1668853)\n",
      "('Florida Dry Prairie', 74721, 784511)\n",
      "('Prairie Potholes', 74722, 7777351)\n",
      "('Vancouverian Grassland', 74723, 11737394)\n",
      "('Mixed Grass Prairie', 74800, 680544642)\n",
      "('Eastern Glades and Barrens', 74900, 132139774)\n",
      "('Chihuahuan Desert Grassland', 75000, 54264416)\n",
      "('Native Hawaiian Grasslands', 75310, 1284926)\n",
      "('Exotic Hawaiian Grasslands', 75320, 4260544)\n",
      "('General Pacific Chaparral', 85400, 47661510)\n",
      "('California Coastal Scrub', 85424, 6256276)\n",
      "('Nearctic Boggy Tundra', 95600, 528296051)\n",
      "('Nearctic Rocky Tundra', 95700, 702082718)\n",
      "('Nearctic Cryptic Tundra', 95800, 1104839049)\n",
      "('General Nearctic Shrubby Tundra', 95900, 500747361)\n",
      "('Aleutian Scrub', 95925, 44300541)\n",
      "('Nearctic Alpine Tundra', 96000, 222061701)\n",
      "('Glacier and Scree', 96100, 617562188)\n",
      "('Hawaiian Lava and Barren', 96146, 2959598)\n",
      "('Nearctic Reedbed Marshes', 106200, 327633652)\n",
      "('General Nearctic Sedge and Grassland Marshes', 106300, 95827318)\n",
      "('Sawgrass Marsh', 106326, 9542838)\n",
      "('Nearctic Boreal Bog and Fen', 106400, 589304294)\n",
      "('Nearctic Open Water', 106500, 1733120304)\n",
      "('Freshwater Aquatic Vegetation', 106700, 415622)\n",
      "('Neotropical Mangrove', 117100, 2342433)\n",
      "('Nearctic Tidal Mudflat', 117200, 461301)\n",
      "('Atlantic Coast Salt Marsh', 117328, 6238404)\n",
      "('Gulf Coast Salt Marsh', 117329, 2881135)\n",
      "('Pacific Coast Salt Marsh', 117330, 8890467)\n",
      "('Hawaiian Wetlands', 117331, 1986)\n",
      "('Atlantic Rocky Coastline', 117431, 256780)\n",
      "('Pacific Sandy Beach and Dune', 117533, 1183988)\n",
      "('Atlantic and Gulf Sandy Beach and Dune', 117534, 3466945)\n",
      "('Interior River and Lake Beach and Dune', 117535, 87553)\n",
      "('Arctic Pelagic Waters', 117637, 3771094060)\n",
      "('Atlantic Pelagic Waters', 117638, 8498936528)\n",
      "('Pacific Pelagic Waters', 117639, 11931549614)\n",
      "('Pacific Coral Reefs', 117701, 361528)\n",
      "('Atlantic Coral Reefs', 117702, 428176)\n",
      "('Nearctic Seagrass Beds', 117900, 28997622)\n",
      "('Pacific Sea Cliff', 118040, 23318)\n",
      "('Atlantic Sea Cliff', 118041, 51845)\n",
      "('Aleutian Sea Cliff', 118042, 461960)\n",
      "('North American Playas', 118100, 39695649)\n",
      "('Urban', 128200, 170376465)\n",
      "('Suburban', 128300, 637817070)\n",
      "('General Agriculture', 128400, 1974240399)\n",
      "('Rice', 128445, 23934142)\n",
      "('Nearctic Tree Plantations', 128500, 154042862)\n",
      "('North American Pastureland and Rangeland', 128600, 410361424)\n"
     ]
    }
   ],
   "source": [
    "# Open a search cursor to read data from the input table\n",
    "\n",
    "with arcpy.da.SearchCursor(config.output_table, fields_to_fetch) as cursor:\n",
    "    # Open an insert cursor to insert data into the new table\n",
    "    with arcpy.da.InsertCursor(config.ABC_Analysis_Table, fields_to_fetch) as insert_cursor:\n",
    "        for row in cursor:\n",
    "            print(row)\n",
    "            # Insert each row from the search cursor into the new table\n",
    "            insert_cursor.insertRow(row)"
   ]
  },
  {
   "cell_type": "code",
   "execution_count": 10,
   "metadata": {},
   "outputs": [
    {
     "name": "stdout",
     "output_type": "stream",
     "text": [
      "New table created successfully.\n"
     ]
    }
   ],
   "source": [
    "# Add in a series of fields to record the output in\n",
    "\n",
    "table = config.ABC_Analysis_Table\n",
    "\n",
    "field_type = \"DOUBLE\"\n",
    "precision = 38\n",
    "scale = 15\n",
    "\n",
    "field_names = [\"Subtype_sqkm\", \"Subtype_hectares\", \"Subtype_RSR\", \"GAP_1_2_Count\", \"GAP_1_2_Area\", \"GAP_1_2_3_Count\", \"GAP_1_2_3_Area\", \"Protected_Area_1_2\", \"Protected_Area_1_2_3\", \"Protected_Area_US_GAP3\"]\n",
    "\n",
    "for field_name in field_names:\n",
    "    arcpy.AddField_management(\n",
    "        in_table=table, \n",
    "        field_name=field_name, \n",
    "        field_type=field_type, \n",
    "        field_precision=precision, \n",
    "        field_scale=scale\n",
    "    )\n",
    "    \n",
    "print(\"New table created successfully.\")    "
   ]
  },
  {
   "cell_type": "code",
   "execution_count": null,
   "metadata": {},
   "outputs": [],
   "source": []
  }
 ],
 "metadata": {
  "kernelspec": {
   "display_name": "ArcGISPro",
   "language": "Python",
   "name": "python3"
  },
  "language_info": {
   "file_extension": ".py",
   "name": "python",
   "version": "3"
  }
 },
 "nbformat": 4,
 "nbformat_minor": 2
}
