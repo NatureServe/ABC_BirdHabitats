{
 "cells": [
  {
   "cell_type": "code",
   "execution_count": 11,
   "metadata": {},
   "outputs": [
    {
     "name": "stdout",
     "output_type": "stream",
     "text": [
      "S:\\Projects\\ABC\\y2025\\Pro\\Draft\\ABC_RSR_Calculation_Pro\\ABC_RSR_Calculation\n"
     ]
    }
   ],
   "source": [
    "# Check Current Working Directory\n",
    "import os\n",
    "print(os.getcwd())"
   ]
  },
  {
   "cell_type": "code",
   "execution_count": 12,
   "metadata": {},
   "outputs": [],
   "source": [
    "# Change working directory to the notebook's directory if needed \n",
    "# This ensures the config.py file in the same directory as the notebook can be referenced\n",
    "os.chdir(r'S:\\Projects\\ABC\\y2025\\Pro\\Draft\\ABC_RSR_Calculation_Pro\\ABC_RSR_Calculation')"
   ]
  },
  {
   "cell_type": "code",
   "execution_count": 13,
   "metadata": {},
   "outputs": [],
   "source": [
    "# Module search path: Also ensures that the directory containing 'config.py' is in the Python search path ('sys.path').\n",
    "import sys\n",
    "sys.path.append(r'S:\\Projects\\ABC\\y2025\\Pro\\Draft\\ABC_RSR_Calculation_Pro\\ABC_RSR_Calculation')"
   ]
  },
  {
   "cell_type": "code",
   "execution_count": 14,
   "metadata": {},
   "outputs": [],
   "source": [
    "import arcpy\n",
    "import os\n",
    "import config"
   ]
  },
  {
   "cell_type": "code",
   "execution_count": 15,
   "metadata": {},
   "outputs": [],
   "source": [
    "workspace_final = os.path.join(config.project_folder_final, f\"{config.gdb_final}.gdb\")\n",
    "workspace_int = os.path.join(config.project_folder_int, f\"{config.gdb_int}.gdb\")"
   ]
  },
  {
   "cell_type": "code",
   "execution_count": 16,
   "metadata": {},
   "outputs": [
    {
     "name": "stdout",
     "output_type": "stream",
     "text": [
      "0.0009\n"
     ]
    }
   ],
   "source": [
    "print(config.cfact030)"
   ]
  },
  {
   "cell_type": "code",
   "execution_count": 17,
   "metadata": {},
   "outputs": [],
   "source": [
    "arcpy.env.workspace = workspace_final"
   ]
  },
  {
   "cell_type": "code",
   "execution_count": 20,
   "metadata": {},
   "outputs": [],
   "source": [
    "# Only use if need to re-run the calculate step below\n",
    "# Clear the contents of the table for the specified fields\n",
    "\n",
    "# Define fields to be cleared\n",
    "fields_to_clear = [\"Subtype_sqkm\", \"Subtype_hectares\", \"Subtype_RSR\"]\n",
    "\n",
    "with arcpy.da.UpdateCursor(config.ABC_Analysis_Table, fields_to_clear) as cursor:\n",
    "    for row in cursor:\n",
    "        # Set each specified field to None\n",
    "        for i in range(len(fields_to_clear)):\n",
    "            row[i] = None\n",
    "        cursor.updateRow(row)"
   ]
  },
  {
   "cell_type": "code",
   "execution_count": 18,
   "metadata": {
    "scrolled": true
   },
   "outputs": [
    {
     "name": "stdout",
     "output_type": "stream",
     "text": [
      "-- Subtype: Subarctic Tundra Woodland; area = 239488.0569; hectares = 23948805.69; rsr = 4.175573566983999e-06.\n",
      "-- Subtype: Boreal Conifer; area = 2261382.0948; hectares = 226138209.48000002; rsr = 4.4220744574721746e-07.\n",
      "-- Subtype: Northern Spruce-Fir Forest; area = 115526.1762; hectares = 11552617.620000001; rsr = 8.656046905497769e-06.\n",
      "-- Subtype: Rocky Mountain Spruce-Fir Forest; area = 158396.9706; hectares = 15839697.06; rsr = 6.313252054076847e-06.\n",
      "-- Subtype: General Nearctic Montane Mixed Conifer Forest; area = 60764.8329; hectares = 6076483.29; rsr = 1.6456887187457403e-05.\n",
      "-- Subtype: Rocky Mountain Mixed Conifer Forest; area = 264817.5894; hectares = 26481758.94; rsr = 3.7761842114253456e-06.\n",
      "-- Subtype: Sierra Nevada - Columbia Plateau Mixed Conifer Forest; area = 82141.0488; hectares = 8214104.880000001; rsr = 1.2174181053310339e-05.\n",
      "-- Subtype: Ponderosa Pine Forest; area = 92676.5316; hectares = 9267653.16; rsr = 1.0790218221761765e-05.\n",
      "-- Subtype: General Eastern Pine Savanna; area = 155.3553; hectares = 15535.53; rsr = 0.006436857963648488.\n",
      "-- Subtype: Shortleaf Pine; area = 27476.0496; hectares = 2747604.96; rsr = 3.6395333920200816e-05.\n",
      "-- Subtype: Longleaf Pine; area = 56452.496399999996; hectares = 5645249.64; rsr = 1.7714008480942928e-05.\n",
      "-- Subtype: Northeastern Pine Barrens; area = 3576.3894; hectares = 357638.94; rsr = 0.0002796116105254087.\n",
      "-- Subtype: Appalachian Coniferous Forest; area = 22614.997499999998; hectares = 2261499.75; rsr = 4.421844397727659e-05.\n",
      "-- Subtype: Nearctic High-elevation Pine Woodland; area = 1678.4316; hectares = 167843.15999999997; rsr = 0.000595794311784883.\n",
      "-- Subtype: Jack Pine Forest; area = 11133.383399999999; hectares = 1113338.3399999999; rsr = 8.981995536056003e-05.\n",
      "-- Subtype: Lodgepole Pine Forest; area = 58138.3701; hectares = 5813837.01; rsr = 1.7200344596519744e-05.\n",
      "-- Subtype: Nearctic Temperate Rainforest; area = 261688.27229999998; hectares = 26168827.229999997; rsr = 3.821340525545592e-06.\n",
      "-- Subtype: Pinyon-Juniper Woodland; area = 168422.5035; hectares = 16842250.349999998; rsr = 5.937448851661322e-06.\n",
      "-- Subtype: Madrean Pine-Oak Woodland; area = 7095.8925; hectares = 709589.25; rsr = 0.0001409265994376324.\n",
      "-- Subtype: Chihuahuan Desert; area = 143640.2259; hectares = 14364022.59; rsr = 6.9618381183567885e-06.\n",
      "-- Subtype: Sonoran Desert; area = 98476.1433; hectares = 9847614.33; rsr = 1.015474374289392e-05.\n",
      "-- Subtype: Mojave Desert; area = 125930.0691; hectares = 12593006.91; rsr = 7.940915201165407e-06.\n",
      "-- Subtype: Nearctic Desolate Desert; area = 30342.996; hectares = 3034299.6; rsr = 3.295653468101831e-05.\n",
      "-- Subtype: Interior Sagebrush Shrubland; area = 482888.448; hectares = 48288844.8; rsr = 2.0708716560558517e-06.\n",
      "-- Subtype: Great Basin Shrubland; area = 338287.7583; hectares = 33828775.83; rsr = 2.9560632197431783e-06.\n",
      "-- Subtype: Tamaulipan Mezquital; area = 46662.8922; hectares = 4666289.220000001; rsr = 2.14303047422337e-05.\n",
      "-- Subtype: Rocky Canyon; area = 51171.858; hectares = 5117185.8; rsr = 1.954199122494243e-05.\n",
      "-- Subtype: Eastern Mesquite; area = 49943.3544; hectares = 4994335.4399999995; rsr = 2.0022683938906597e-05.\n",
      "-- Subtype: Cypress-Tupelo Gum Swamps; area = 34641.171; hectares = 3464117.1; rsr = 2.8867384419539397e-05.\n",
      "-- Subtype: General Nearctic Temperate Deciduous Forest; area = 738750.4353; hectares = 73875043.53; rsr = 1.3536371042460486e-06.\n",
      "-- Subtype: Appalachian Cove Forest; area = 13187.9916; hectares = 1318799.16; rsr = 7.582655724469828e-05.\n",
      "-- Subtype: Early Successional Temperate Deciduous Forest; area = 179956.872; hectares = 17995687.2; rsr = 5.556886985677324e-06.\n",
      "-- Subtype: General Nearctic Temperate Mixed Forest; area = 711781.146; hectares = 71178114.6; rsr = 1.4049262271411725e-06.\n",
      "-- Subtype: Appalachian Pine-Oak Forest; area = 64925.3097; hectares = 6492530.97; rsr = 1.5402313899166506e-05.\n",
      "-- Subtype: General Nearctic Western Riparian Woodland; area = 64636.346699999995; hectares = 6463634.67; rsr = 1.5471171423740137e-05.\n",
      "-- Subtype: Western Mesquite; area = 1091.6208; hectares = 109162.07999999999; rsr = 0.0009160690232359076.\n",
      "-- Subtype: Lower Rio Grande Western Riparian Woodland; area = 114.1236; hectares = 11412.359999999999; rsr = 0.008762429506254622.\n",
      "-- Subtype: Subarctic Riparian and Boreal Shrubland; area = 178139.7081; hectares = 17813970.81; rsr = 5.613571565069832e-06.\n",
      "-- Subtype: Eastern Riparian Woodland; area = 159152.9112; hectares = 15915291.120000001; rsr = 6.283265524080467e-06.\n",
      "-- Subtype: Aspen Forest and Parkland; area = 76383.3294; hectares = 7638332.94; rsr = 1.3091861900431902e-05.\n",
      "-- Subtype: General Bottomland Hardwood Forest; area = 68546.6262; hectares = 6854662.62; rsr = 1.458861005182484e-05.\n",
      "-- Subtype: Pocosins and Evergreen Shrub Bogs; area = 8914.2831; hectares = 891428.31; rsr = 0.00011217952007828873.\n",
      "-- Subtype: Coastal Live Oak and Hammock; area = 11430.4617; hectares = 1143046.17; rsr = 8.748553000269446e-05.\n",
      "-- Subtype: General Wet 'Ohi'a Lehua-Koa Forest; area = 3334.9716; hectares = 333497.16; rsr = 0.0002998526284301791.\n",
      "-- Subtype: Hawaiian Non-Native Wet Forest; area = 1900.0953; hectares = 190009.53; rsr = 0.0005262893919057639.\n",
      "-- Subtype: Native Mamane-Naio Dry Forest; area = 394.0335; hectares = 39403.35; rsr = 0.0025378552838781474.\n",
      "-- Subtype: Exotic Mamane-Naio Dry Forest; area = 411.4683; hectares = 41146.83; rsr = 0.002430320877695803.\n",
      "-- Subtype: General Oak-Juniper Woodland; area = 21840.6339; hectares = 2184063.39; rsr = 4.5786216855180194e-05.\n",
      "-- Subtype: Edwards Plateau Oak Scrubland; area = 60796.4013; hectares = 6079640.13; rsr = 1.6448341984347026e-05.\n",
      "-- Subtype: California Oak Savanna; area = 56905.371; hectares = 5690537.1; rsr = 1.7573033659687413e-05.\n",
      "-- Subtype: Madrean Encinal; area = 28281.870899999998; hectares = 2828187.09; rsr = 3.535833974830852e-05.\n",
      "-- Subtype: Florida Scrub; area = 1491.8147999999999; hectares = 149181.47999999998; rsr = 0.0006703244933620447.\n",
      "-- Subtype: Foothill Oak Shrubland; area = 37182.2481; hectares = 3718224.8099999996; rsr = 2.6894554554919452e-05.\n",
      "-- Subtype: Nearctic Montane Shrubland; area = 11146.944599999999; hectares = 1114694.46; rsr = 8.971068179526074e-05.\n",
      "-- Subtype: Boreal Shrubland; area = 1524890.1014999999; hectares = 152489010.14999998; rsr = 6.557849637926843e-07.\n",
      "-- Subtype: Shortgrass Prairie; area = 239582.5065; hectares = 23958250.65; rsr = 4.17392744824631e-06.\n",
      "-- Subtype: General Tallgrass Prairie; area = 67205.6271; hectares = 6720562.71; rsr = 1.487970640482276e-05.\n",
      "-- Subtype: Eastern Oak Savanna; area = 2071.8351; hectares = 207183.50999999998; rsr = 0.0004826638954036449.\n",
      "-- Subtype: Gulf Coast Prairie; area = 1501.9677; hectares = 150196.77; rsr = 0.0006657932790432178.\n",
      "-- Subtype: Florida Dry Prairie; area = 706.0599; hectares = 70605.98999999999; rsr = 0.0014163104291859657.\n",
      "-- Subtype: Prairie Potholes; area = 6999.6159; hectares = 699961.59; rsr = 0.00014286498206280147.\n",
      "-- Subtype: Vancouverian Grassland; area = 10563.6546; hectares = 1056365.46; rsr = 9.466420835077285e-05.\n",
      "-- Subtype: Mixed Grass Prairie; area = 612490.1778; hectares = 61249017.779999994; rsr = 1.6326792432686749e-06.\n",
      "-- Subtype: Eastern Glades and Barrens; area = 118925.7966; hectares = 11892579.66; rsr = 8.408604597061829e-06.\n",
      "-- Subtype: Chihuahuan Desert Grassland; area = 48837.9744; hectares = 4883797.4399999995; rsr = 2.047586969536558e-05.\n",
      "-- Subtype: Native Hawaiian Grasslands; area = 1156.4334; hectares = 115643.34; rsr = 0.000864727705028236.\n",
      "-- Subtype: Exotic Hawaiian Grasslands; area = 3834.4896; hectares = 383448.95999999996; rsr = 0.0002607909016104777.\n",
      "-- Subtype: General Pacific Chaparral; area = 42895.359; hectares = 4289535.899999999; rsr = 2.3312545303560698e-05.\n",
      "-- Subtype: California Coastal Scrub; area = 5630.6484; hectares = 563064.84; rsr = 0.00017759943952458477.\n",
      "-- Subtype: Nearctic Boggy Tundra; area = 475466.4459; hectares = 47546644.589999996; rsr = 2.103197835773925e-06.\n",
      "-- Subtype: Nearctic Rocky Tundra; area = 631874.4462; hectares = 63187444.62; rsr = 1.5825928806171115e-06.\n"
     ]
    },
    {
     "name": "stdout",
     "output_type": "stream",
     "text": [
      "-- Subtype: Nearctic Cryptic Tundra; area = 994355.1440999999; hectares = 99435514.41; rsr = 1.0056769011891716e-06.\n",
      "-- Subtype: General Nearctic Shrubby Tundra; area = 450672.6249; hectares = 45067262.49; rsr = 2.2189055752429837e-06.\n",
      "-- Subtype: Aleutian Scrub; area = 39870.486899999996; hectares = 3987048.6899999995; rsr = 2.5081208627025824e-05.\n",
      "-- Subtype: Nearctic Alpine Tundra; area = 199855.53089999998; hectares = 19985553.09; rsr = 5.0036143383010075e-06.\n",
      "-- Subtype: Glacier and Scree; area = 555805.9691999999; hectares = 55580596.919999994; rsr = 1.799189025334419e-06.\n",
      "-- Subtype: Hawaiian Lava and Barren; area = 2663.6382; hectares = 266363.82; rsr = 0.00037542636233404373.\n",
      "-- Subtype: Nearctic Reedbed Marshes; area = 294870.2868; hectares = 29487028.68; rsr = 3.3913216921658312e-06.\n",
      "-- Subtype: General Nearctic Sedge and Grassland Marshes; area = 86244.58619999999; hectares = 8624458.62; rsr = 1.1594930697226768e-05.\n",
      "-- Subtype: Sawgrass Marsh; area = 8588.5542; hectares = 858855.42; rsr = 0.00011643403263380464.\n",
      "-- Subtype: Nearctic Boreal Bog and Fen; area = 530373.8646; hectares = 53037386.45999999; rsr = 1.8854624383767195e-06.\n",
      "-- Subtype: Nearctic Open Water; area = 1559808.2736; hectares = 155980827.35999998; rsr = 6.41104433746863e-07.\n",
      "-- Subtype: Freshwater Aquatic Vegetation; area = 374.0598; hectares = 37405.979999999996; rsr = 0.0026733693382715814.\n",
      "-- Subtype: Neotropical Mangrove; area = 2108.1897; hectares = 210818.97; rsr = 0.0004743406155527655.\n",
      "-- Subtype: Nearctic Tidal Mudflat; area = 415.17089999999996; hectares = 41517.09; rsr = 0.002408646656111977.\n",
      "-- Subtype: Atlantic Coast Salt Marsh; area = 5614.5635999999995; hectares = 561456.36; rsr = 0.00017810823266834134.\n",
      "-- Subtype: Gulf Coast Salt Marsh; area = 2593.0215; hectares = 259302.15; rsr = 0.0003856504853507771.\n",
      "-- Subtype: Pacific Coast Salt Marsh; area = 8001.4203; hectares = 800142.03; rsr = 0.00012497781175174614.\n",
      "-- Subtype: Hawaiian Wetlands; area = 1.7873999999999999; hectares = 178.73999999999998; rsr = 0.5594718585655142.\n",
      "-- Subtype: Atlantic Rocky Coastline; area = 231.102; hectares = 23110.2; rsr = 0.004327093664269457.\n",
      "-- Subtype: Pacific Sandy Beach and Dune; area = 1065.5892; hectares = 106558.91999999998; rsr = 0.0009384479497352264.\n",
      "-- Subtype: Atlantic and Gulf Sandy Beach and Dune; area = 3120.2505; hectares = 312025.05; rsr = 0.0003204870890974939.\n",
      "-- Subtype: Interior River and Lake Beach and Dune; area = 78.79769999999999; hectares = 7879.7699999999995; rsr = 0.012690725744533154.\n",
      "-- Subtype: Arctic Pelagic Waters; area = 3393984.654; hectares = 339398465.40000004; rsr = 2.94638927969649e-07.\n",
      "-- Subtype: Atlantic Pelagic Waters; area = 7649042.8752; hectares = 764904287.52; rsr = 1.307353111122224e-07.\n",
      "-- Subtype: Pacific Pelagic Waters; area = 10738394.6526; hectares = 1073839465.26; rsr = 9.312378920231603e-08.\n",
      "-- Subtype: Pacific Coral Reefs; area = 325.3752; hectares = 32537.52; rsr = 0.0030733749837111124.\n",
      "-- Subtype: Atlantic Coral Reefs; area = 385.3584; hectares = 38535.840000000004; rsr = 0.0025949869005061263.\n",
      "-- Subtype: Nearctic Seagrass Beds; area = 26097.8598; hectares = 2609785.98; rsr = 3.831731826530849e-05.\n",
      "-- Subtype: Pacific Sea Cliff; area = 20.9862; hectares = 2098.62; rsr = 0.047650360713230595.\n",
      "-- Subtype: Atlantic Sea Cliff; area = 46.6605; hectares = 4666.05; rsr = 0.02143140343545397.\n",
      "-- Subtype: Aleutian Sea Cliff; area = 415.764; hectares = 41576.4; rsr = 0.0024052106483485824.\n",
      "-- Subtype: North American Playas; area = 35726.0841; hectares = 3572608.41; rsr = 2.7990753120351077e-05.\n",
      "-- Subtype: Urban; area = 153338.8185; hectares = 15333881.85; rsr = 6.5215058377406245e-06.\n",
      "-- Subtype: Suburban; area = 574035.363; hectares = 57403536.300000004; rsr = 1.742052954322955e-06.\n",
      "-- Subtype: General Agriculture; area = 1776816.3591; hectares = 177681635.91; rsr = 5.628043634776775e-07.\n",
      "-- Subtype: Rice; area = 21540.7278; hectares = 2154072.7800000003; rsr = 4.642368676141017e-05.\n",
      "-- Subtype: Nearctic Tree Plantations; area = 138638.5758; hectares = 13863857.579999998; rsr = 7.212999659218946e-06.\n",
      "-- Subtype: North American Pastureland and Rangeland; area = 369325.2816; hectares = 36932528.16; rsr = 2.707640255949378e-06.\n",
      "Table complete.\n"
     ]
    }
   ],
   "source": [
    "# calculate range size rarity for 030 meter size\n",
    "\n",
    "with arcpy.da.UpdateCursor(os.path.join(config.project_folder_final, config.gdb_final + \".gdb\", config.ABC_Analysis_Table),\n",
    "                           (\"Subtype\",\"Subtype_Count\", \"Subtype_sqkm\", \"Subtype_hectares\", \"Subtype_RSR\")) as cursor:\n",
    "    for row in cursor:\n",
    "        Subtype = row[0]\n",
    "        Subtype_Count = row[1]\n",
    "        Subtype_sqkm = Subtype_Count * config.cfact030\n",
    "        Subtype_hectares = Subtype_sqkm*100\n",
    "        Subtype_RSR = 1.0/Subtype_sqkm\n",
    "        print(f\"-- Subtype: {Subtype}; area = {Subtype_sqkm}; hectares = {Subtype_hectares}; rsr = {Subtype_RSR}.\")\n",
    "                        \n",
    "        # Use an update cursor to insert new values into the table\n",
    "        row[2] = Subtype_sqkm\n",
    "        row[3] = Subtype_hectares\n",
    "        row[4] = Subtype_RSR\n",
    "        cursor.updateRow(row)\n",
    "        \n",
    "print(\"Table complete.\")\n",
    "                               "
   ]
  },
  {
   "cell_type": "code",
   "execution_count": null,
   "metadata": {},
   "outputs": [],
   "source": []
  }
 ],
 "metadata": {
  "kernelspec": {
   "display_name": "ArcGISPro",
   "language": "Python",
   "name": "python3"
  },
  "language_info": {
   "file_extension": ".py",
   "name": "python",
   "version": "3"
  }
 },
 "nbformat": 4,
 "nbformat_minor": 2
}
